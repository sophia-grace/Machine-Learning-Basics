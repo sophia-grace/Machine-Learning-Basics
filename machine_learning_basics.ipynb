{
 "cells": [
  {
   "cell_type": "markdown",
   "metadata": {},
   "source": [
    "# CIS 399 Homework 1: Machine Learning Basics and Overfitting\n",
    "\n",
    "## Sophia Trump\n",
    "\n",
    "In this homework, you will gain experience with basic tools for training and evaluating machine learning models. This assignment makes use of Python 3, as well as standard Python libraries for data science such as pandas, scikit-learn, and matplotlib. If this is your first time programming in Python, you may want to examine the language documentation (https://docs.python.org/3/), which includes some simple tutorials.\n",
    "\n",
    "All cells where code is required are marked with a \"YOUR CODE HERE\" comment. The point values for each code block are written in the header for the associated subsection.\n",
    "\n"
   ]
  },
  {
   "cell_type": "code",
   "execution_count": 2,
   "metadata": {},
   "outputs": [],
   "source": [
    "# Suppressing warnings\n",
    "import warnings\n",
    "warnings.filterwarnings('ignore') "
   ]
  },
  {
   "cell_type": "markdown",
   "metadata": {},
   "source": [
    "## Part 1: Loading Data\n",
    "\n",
    "Pandas DataFrames are useful structures for working with data in Python. We can load our data from a CSV file directly into a DataFrame and display a sample of rows as output.\n",
    "\n",
    "The data we are using for this homework is from the \"Communities and Crime\" dataset available from UC Irvine's Machine Learning Repository (http://archive.ics.uci.edu/ml/datasets/communities+and+crime). It includes data about the different types of crimes among various communities, socioeconomic and racial data about each community, and information about the police force in each community.\n",
    "\n",
    "The last column indicates whether or not there is a high rate of violent crime in the community (1 if yes, 0 if no). This is the target (Y) variable for the dataset. Running the two cells below will display a subset of the entries as well as a list of the column names."
   ]
  },
  {
   "cell_type": "code",
   "execution_count": 3,
   "metadata": {},
   "outputs": [
    {
     "data": {
      "text/html": [
       "<div>\n",
       "<style scoped>\n",
       "    .dataframe tbody tr th:only-of-type {\n",
       "        vertical-align: middle;\n",
       "    }\n",
       "\n",
       "    .dataframe tbody tr th {\n",
       "        vertical-align: top;\n",
       "    }\n",
       "\n",
       "    .dataframe thead th {\n",
       "        text-align: right;\n",
       "    }\n",
       "</style>\n",
       "<table border=\"1\" class=\"dataframe\">\n",
       "  <thead>\n",
       "    <tr style=\"text-align: right;\">\n",
       "      <th></th>\n",
       "      <th>population</th>\n",
       "      <th>householdsize</th>\n",
       "      <th>racepctblack</th>\n",
       "      <th>racePctWhite</th>\n",
       "      <th>racePctAsian</th>\n",
       "      <th>racePctHisp</th>\n",
       "      <th>agePct12t21</th>\n",
       "      <th>agePct12t29</th>\n",
       "      <th>agePct16t24</th>\n",
       "      <th>agePct65up</th>\n",
       "      <th>...</th>\n",
       "      <th>LandArea</th>\n",
       "      <th>PopDens</th>\n",
       "      <th>PctUsePubTrans</th>\n",
       "      <th>PolicCars</th>\n",
       "      <th>PolicOperBudg</th>\n",
       "      <th>LemasPctPolicOnPatr</th>\n",
       "      <th>LemasGangUnitDeploy</th>\n",
       "      <th>LemasPctOfficDrugUn</th>\n",
       "      <th>PolicBudgPerPop</th>\n",
       "      <th>ViolentCrimesPerPop</th>\n",
       "    </tr>\n",
       "  </thead>\n",
       "  <tbody>\n",
       "    <tr>\n",
       "      <th>0</th>\n",
       "      <td>0.19</td>\n",
       "      <td>0.33</td>\n",
       "      <td>0.02</td>\n",
       "      <td>0.90</td>\n",
       "      <td>0.12</td>\n",
       "      <td>0.17</td>\n",
       "      <td>0.34</td>\n",
       "      <td>0.47</td>\n",
       "      <td>0.29</td>\n",
       "      <td>0.32</td>\n",
       "      <td>...</td>\n",
       "      <td>0.12</td>\n",
       "      <td>0.26</td>\n",
       "      <td>0.20</td>\n",
       "      <td>0.06</td>\n",
       "      <td>0.04</td>\n",
       "      <td>0.9</td>\n",
       "      <td>0.5</td>\n",
       "      <td>0.32</td>\n",
       "      <td>0.14</td>\n",
       "      <td>0.0</td>\n",
       "    </tr>\n",
       "    <tr>\n",
       "      <th>1</th>\n",
       "      <td>0.00</td>\n",
       "      <td>0.16</td>\n",
       "      <td>0.12</td>\n",
       "      <td>0.74</td>\n",
       "      <td>0.45</td>\n",
       "      <td>0.07</td>\n",
       "      <td>0.26</td>\n",
       "      <td>0.59</td>\n",
       "      <td>0.35</td>\n",
       "      <td>0.27</td>\n",
       "      <td>...</td>\n",
       "      <td>0.02</td>\n",
       "      <td>0.12</td>\n",
       "      <td>0.45</td>\n",
       "      <td>0.00</td>\n",
       "      <td>0.00</td>\n",
       "      <td>0.0</td>\n",
       "      <td>0.0</td>\n",
       "      <td>0.00</td>\n",
       "      <td>0.00</td>\n",
       "      <td>1.0</td>\n",
       "    </tr>\n",
       "    <tr>\n",
       "      <th>2</th>\n",
       "      <td>0.00</td>\n",
       "      <td>0.42</td>\n",
       "      <td>0.49</td>\n",
       "      <td>0.56</td>\n",
       "      <td>0.17</td>\n",
       "      <td>0.04</td>\n",
       "      <td>0.39</td>\n",
       "      <td>0.47</td>\n",
       "      <td>0.28</td>\n",
       "      <td>0.32</td>\n",
       "      <td>...</td>\n",
       "      <td>0.01</td>\n",
       "      <td>0.21</td>\n",
       "      <td>0.02</td>\n",
       "      <td>0.00</td>\n",
       "      <td>0.00</td>\n",
       "      <td>0.0</td>\n",
       "      <td>0.0</td>\n",
       "      <td>0.00</td>\n",
       "      <td>0.00</td>\n",
       "      <td>1.0</td>\n",
       "    </tr>\n",
       "    <tr>\n",
       "      <th>3</th>\n",
       "      <td>0.04</td>\n",
       "      <td>0.77</td>\n",
       "      <td>1.00</td>\n",
       "      <td>0.08</td>\n",
       "      <td>0.12</td>\n",
       "      <td>0.10</td>\n",
       "      <td>0.51</td>\n",
       "      <td>0.50</td>\n",
       "      <td>0.34</td>\n",
       "      <td>0.21</td>\n",
       "      <td>...</td>\n",
       "      <td>0.02</td>\n",
       "      <td>0.39</td>\n",
       "      <td>0.28</td>\n",
       "      <td>0.00</td>\n",
       "      <td>0.00</td>\n",
       "      <td>0.0</td>\n",
       "      <td>0.0</td>\n",
       "      <td>0.00</td>\n",
       "      <td>0.00</td>\n",
       "      <td>0.0</td>\n",
       "    </tr>\n",
       "    <tr>\n",
       "      <th>4</th>\n",
       "      <td>0.01</td>\n",
       "      <td>0.55</td>\n",
       "      <td>0.02</td>\n",
       "      <td>0.95</td>\n",
       "      <td>0.09</td>\n",
       "      <td>0.05</td>\n",
       "      <td>0.38</td>\n",
       "      <td>0.38</td>\n",
       "      <td>0.23</td>\n",
       "      <td>0.36</td>\n",
       "      <td>...</td>\n",
       "      <td>0.04</td>\n",
       "      <td>0.09</td>\n",
       "      <td>0.02</td>\n",
       "      <td>0.00</td>\n",
       "      <td>0.00</td>\n",
       "      <td>0.0</td>\n",
       "      <td>0.0</td>\n",
       "      <td>0.00</td>\n",
       "      <td>0.00</td>\n",
       "      <td>0.0</td>\n",
       "    </tr>\n",
       "  </tbody>\n",
       "</table>\n",
       "<p>5 rows × 123 columns</p>\n",
       "</div>"
      ],
      "text/plain": [
       "   population  householdsize  racepctblack  racePctWhite  racePctAsian  \\\n",
       "0        0.19           0.33          0.02          0.90          0.12   \n",
       "1        0.00           0.16          0.12          0.74          0.45   \n",
       "2        0.00           0.42          0.49          0.56          0.17   \n",
       "3        0.04           0.77          1.00          0.08          0.12   \n",
       "4        0.01           0.55          0.02          0.95          0.09   \n",
       "\n",
       "   racePctHisp  agePct12t21  agePct12t29  agePct16t24  agePct65up  \\\n",
       "0         0.17         0.34         0.47         0.29        0.32   \n",
       "1         0.07         0.26         0.59         0.35        0.27   \n",
       "2         0.04         0.39         0.47         0.28        0.32   \n",
       "3         0.10         0.51         0.50         0.34        0.21   \n",
       "4         0.05         0.38         0.38         0.23        0.36   \n",
       "\n",
       "          ...           LandArea  PopDens  PctUsePubTrans  PolicCars  \\\n",
       "0         ...               0.12     0.26            0.20       0.06   \n",
       "1         ...               0.02     0.12            0.45       0.00   \n",
       "2         ...               0.01     0.21            0.02       0.00   \n",
       "3         ...               0.02     0.39            0.28       0.00   \n",
       "4         ...               0.04     0.09            0.02       0.00   \n",
       "\n",
       "   PolicOperBudg  LemasPctPolicOnPatr  LemasGangUnitDeploy  \\\n",
       "0           0.04                  0.9                  0.5   \n",
       "1           0.00                  0.0                  0.0   \n",
       "2           0.00                  0.0                  0.0   \n",
       "3           0.00                  0.0                  0.0   \n",
       "4           0.00                  0.0                  0.0   \n",
       "\n",
       "   LemasPctOfficDrugUn  PolicBudgPerPop  ViolentCrimesPerPop  \n",
       "0                 0.32             0.14                  0.0  \n",
       "1                 0.00             0.00                  1.0  \n",
       "2                 0.00             0.00                  1.0  \n",
       "3                 0.00             0.00                  0.0  \n",
       "4                 0.00             0.00                  0.0  \n",
       "\n",
       "[5 rows x 123 columns]"
      ]
     },
     "execution_count": 3,
     "metadata": {},
     "output_type": "execute_result"
    }
   ],
   "source": [
    "import pandas as pd\n",
    "import numpy as np\n",
    "dataframe = pd.read_csv(\"communities.csv\")\n",
    "\n",
    "dataframe.head(5)"
   ]
  },
  {
   "cell_type": "code",
   "execution_count": 4,
   "metadata": {
    "scrolled": true
   },
   "outputs": [
    {
     "data": {
      "text/plain": [
       "['population',\n",
       " 'householdsize',\n",
       " 'racepctblack',\n",
       " 'racePctWhite',\n",
       " 'racePctAsian',\n",
       " 'racePctHisp',\n",
       " 'agePct12t21',\n",
       " 'agePct12t29',\n",
       " 'agePct16t24',\n",
       " 'agePct65up',\n",
       " 'numbUrban',\n",
       " 'pctUrban',\n",
       " 'medIncome',\n",
       " 'pctWWage',\n",
       " 'pctWFarmSelf',\n",
       " 'pctWInvInc',\n",
       " 'pctWSocSec',\n",
       " 'pctWPubAsst',\n",
       " 'pctWRetire',\n",
       " 'medFamInc',\n",
       " 'perCapInc',\n",
       " 'whitePerCap',\n",
       " 'blackPerCap',\n",
       " 'indianPerCap',\n",
       " 'AsianPerCap',\n",
       " 'OtherPerCap',\n",
       " 'HispPerCap',\n",
       " 'NumUnderPov',\n",
       " 'PctPopUnderPov',\n",
       " 'PctLess9thGrade',\n",
       " 'PctNotHSGrad',\n",
       " 'PctBSorMore',\n",
       " 'PctUnemployed',\n",
       " 'PctEmploy',\n",
       " 'PctEmplManu',\n",
       " 'PctEmplProfServ',\n",
       " 'PctOccupManu',\n",
       " 'PctOccupMgmtProf',\n",
       " 'MalePctDivorce',\n",
       " 'MalePctNevMarr',\n",
       " 'FemalePctDiv',\n",
       " 'TotalPctDiv',\n",
       " 'PersPerFam',\n",
       " 'PctFam2Par',\n",
       " 'PctKids2Par',\n",
       " 'PctYoungKids2Par',\n",
       " 'PctTeen2Par',\n",
       " 'PctWorkMomYoungKids',\n",
       " 'PctWorkMom',\n",
       " 'NumIlleg',\n",
       " 'PctIlleg',\n",
       " 'NumImmig',\n",
       " 'PctImmigRecent',\n",
       " 'PctImmigRec5',\n",
       " 'PctImmigRec8',\n",
       " 'PctImmigRec10',\n",
       " 'PctRecentImmig',\n",
       " 'PctRecImmig5',\n",
       " 'PctRecImmig8',\n",
       " 'PctRecImmig10',\n",
       " 'PctSpeakEnglOnly',\n",
       " 'PctNotSpeakEnglWell',\n",
       " 'PctLargHouseFam',\n",
       " 'PctLargHouseOccup',\n",
       " 'PersPerOccupHous',\n",
       " 'PersPerOwnOccHous',\n",
       " 'PersPerRentOccHous',\n",
       " 'PctPersOwnOccup',\n",
       " 'PctPersDenseHous',\n",
       " 'PctHousLess3BR',\n",
       " 'MedNumBR',\n",
       " 'HousVacant',\n",
       " 'PctHousOccup',\n",
       " 'PctHousOwnOcc',\n",
       " 'PctVacantBoarded',\n",
       " 'PctVacMore6Mos',\n",
       " 'MedYrHousBuilt',\n",
       " 'PctHousNoPhone',\n",
       " 'PctWOFullPlumb',\n",
       " 'OwnOccLowQuart',\n",
       " 'OwnOccMedVal',\n",
       " 'OwnOccHiQuart',\n",
       " 'RentLowQ',\n",
       " 'RentMedian',\n",
       " 'RentHighQ',\n",
       " 'MedRent',\n",
       " 'MedRentPctHousInc',\n",
       " 'MedOwnCostPctInc',\n",
       " 'MedOwnCostPctIncNoMtg',\n",
       " 'NumInShelters',\n",
       " 'NumStreet',\n",
       " 'PctForeignBorn',\n",
       " 'PctBornSameState',\n",
       " 'PctSameHouse85',\n",
       " 'PctSameCity85',\n",
       " 'PctSameState85',\n",
       " 'LemasSwornFT',\n",
       " 'LemasSwFTPerPop',\n",
       " 'LemasSwFTFieldOps',\n",
       " 'LemasSwFTFieldPerPop',\n",
       " 'LemasTotalReq',\n",
       " 'LemasTotReqPerPop',\n",
       " 'PolicReqPerOffic',\n",
       " 'PolicPerPop',\n",
       " 'RacialMatchCommPol',\n",
       " 'PctPolicWhite',\n",
       " 'PctPolicBlack',\n",
       " 'PctPolicHisp',\n",
       " 'PctPolicAsian',\n",
       " 'PctPolicMinor',\n",
       " 'OfficAssgnDrugUnits',\n",
       " 'NumKindsDrugsSeiz',\n",
       " 'PolicAveOTWorked',\n",
       " 'LandArea',\n",
       " 'PopDens',\n",
       " 'PctUsePubTrans',\n",
       " 'PolicCars',\n",
       " 'PolicOperBudg',\n",
       " 'LemasPctPolicOnPatr',\n",
       " 'LemasGangUnitDeploy',\n",
       " 'LemasPctOfficDrugUn',\n",
       " 'PolicBudgPerPop',\n",
       " 'ViolentCrimesPerPop']"
      ]
     },
     "execution_count": 4,
     "metadata": {},
     "output_type": "execute_result"
    }
   ],
   "source": [
    "dataframe.columns.values.tolist()"
   ]
  },
  {
   "cell_type": "markdown",
   "metadata": {},
   "source": [
    "We can also extract the numerical values from a DataFrame into a Numpy array. Depending on the situation, these formats have various strengths and weaknesses. Numpy arrays are lightweight and behave much like a standard list, but do not support heterogenous data or many of the Pandas features for indexing and querying.\n",
    "\n",
    "Below, we extract the values from our dataframe, display the dimensions of the array, and display a subset of the rows and columns. You should find that the values displayed match with the above dataframe output.\n",
    "\n",
    "More information about array indexing in Numpy is available here: https://docs.scipy.org/doc/numpy-1.13.0/reference/arrays.indexing.html"
   ]
  },
  {
   "cell_type": "code",
   "execution_count": 5,
   "metadata": {},
   "outputs": [],
   "source": [
    "data = dataframe.values[:, :]"
   ]
  },
  {
   "cell_type": "code",
   "execution_count": 6,
   "metadata": {},
   "outputs": [
    {
     "data": {
      "text/plain": [
       "(1994, 123)"
      ]
     },
     "execution_count": 6,
     "metadata": {},
     "output_type": "execute_result"
    }
   ],
   "source": [
    "data.shape"
   ]
  },
  {
   "cell_type": "code",
   "execution_count": 7,
   "metadata": {
    "scrolled": true
   },
   "outputs": [
    {
     "data": {
      "text/plain": [
       "array([[0.19, 0.33, 0.02, 0.9 , 0.12],\n",
       "       [0.  , 0.16, 0.12, 0.74, 0.45],\n",
       "       [0.  , 0.42, 0.49, 0.56, 0.17],\n",
       "       [0.04, 0.77, 1.  , 0.08, 0.12],\n",
       "       [0.01, 0.55, 0.02, 0.95, 0.09]])"
      ]
     },
     "execution_count": 7,
     "metadata": {},
     "output_type": "execute_result"
    }
   ],
   "source": [
    "data[0:5, 0:5]"
   ]
  },
  {
   "cell_type": "markdown",
   "metadata": {},
   "source": [
    "### 1.1: Creating X and Y (5 Points)\n",
    "\n",
    "Create arrays titled \"X\" and \"y\", where X consists of all but the last column of data (for all rows) and y is exclusively the last column. Print the shape of each array as accessed above."
   ]
  },
  {
   "cell_type": "code",
   "execution_count": 8,
   "metadata": {},
   "outputs": [],
   "source": [
    "X = dataframe.values[:, :-1]\n",
    "y = dataframe.values[:, 122:123]"
   ]
  },
  {
   "cell_type": "code",
   "execution_count": 9,
   "metadata": {},
   "outputs": [
    {
     "data": {
      "text/plain": [
       "(1994, 122)"
      ]
     },
     "execution_count": 9,
     "metadata": {},
     "output_type": "execute_result"
    }
   ],
   "source": [
    "X.shape"
   ]
  },
  {
   "cell_type": "code",
   "execution_count": 10,
   "metadata": {},
   "outputs": [
    {
     "name": "stdout",
     "output_type": "stream",
     "text": [
      "[[0.19 0.33 0.02 ... 0.5  0.32 0.14]\n",
      " [0.   0.16 0.12 ... 0.   0.   0.  ]\n",
      " [0.   0.42 0.49 ... 0.   0.   0.  ]\n",
      " ...\n",
      " [0.16 0.37 0.25 ... 0.   0.91 0.28]\n",
      " [0.08 0.51 0.06 ... 0.   0.22 0.18]\n",
      " [0.2  0.78 0.14 ... 0.5  1.   0.13]]\n"
     ]
    }
   ],
   "source": [
    "print(X)"
   ]
  },
  {
   "cell_type": "code",
   "execution_count": 11,
   "metadata": {},
   "outputs": [
    {
     "data": {
      "text/plain": [
       "(1994, 1)"
      ]
     },
     "execution_count": 11,
     "metadata": {},
     "output_type": "execute_result"
    }
   ],
   "source": [
    "y.shape"
   ]
  },
  {
   "cell_type": "code",
   "execution_count": 11,
   "metadata": {},
   "outputs": [
    {
     "name": "stdout",
     "output_type": "stream",
     "text": [
      "[[0.]\n",
      " [1.]\n",
      " [1.]\n",
      " ...\n",
      " [0.]\n",
      " [0.]\n",
      " [1.]]\n"
     ]
    }
   ],
   "source": [
    "print(y)"
   ]
  },
  {
   "cell_type": "markdown",
   "metadata": {},
   "source": [
    "### 1.2: Creating Train and Test Sets (5 points)\n",
    "\n",
    "Create arrays titled: \n",
    "- X_train (first 1000 rows of X)\n",
    "- X_test (remaining rows of X)\n",
    "- y_train (first 1000 rows of y)\n",
    "- y_test (remaining rows of y)\n",
    "\n",
    "As the order of the records in the dataset are randomized, it is fine to simply use the beginning of the file as training and the rest as test.\n",
    "\n",
    "For the y arrays, you may want to consider using the .ravel() method for \"flattening\" the array from 2 dimensions down to 1. Print the shape of each array."
   ]
  },
  {
   "cell_type": "code",
   "execution_count": 12,
   "metadata": {},
   "outputs": [],
   "source": [
    "X_train = X[0:1000, :]\n",
    "X_test = X[1000:, :]\n",
    "y_train = y[0:1000, :]\n",
    "y_test = y[1000:, :]\n",
    "\n",
    "y_train = y_train.ravel()\n",
    "y_test = y_test.ravel()"
   ]
  },
  {
   "cell_type": "code",
   "execution_count": 13,
   "metadata": {},
   "outputs": [
    {
     "data": {
      "text/plain": [
       "(1000, 122)"
      ]
     },
     "execution_count": 13,
     "metadata": {},
     "output_type": "execute_result"
    }
   ],
   "source": [
    "X_train.shape"
   ]
  },
  {
   "cell_type": "code",
   "execution_count": 13,
   "metadata": {},
   "outputs": [
    {
     "name": "stdout",
     "output_type": "stream",
     "text": [
      "[[0.19 0.33 0.02 ... 0.5  0.32 0.14]\n",
      " [0.   0.16 0.12 ... 0.   0.   0.  ]\n",
      " [0.   0.42 0.49 ... 0.   0.   0.  ]\n",
      " ...\n",
      " [0.   0.31 0.   ... 0.   0.   0.  ]\n",
      " [0.08 1.   0.46 ... 0.   0.   0.  ]\n",
      " [0.02 0.64 0.02 ... 0.   0.   0.  ]]\n"
     ]
    }
   ],
   "source": [
    "print(X_train)"
   ]
  },
  {
   "cell_type": "code",
   "execution_count": 14,
   "metadata": {},
   "outputs": [
    {
     "data": {
      "text/plain": [
       "(994, 122)"
      ]
     },
     "execution_count": 14,
     "metadata": {},
     "output_type": "execute_result"
    }
   ],
   "source": [
    "X_test.shape"
   ]
  },
  {
   "cell_type": "code",
   "execution_count": 17,
   "metadata": {},
   "outputs": [
    {
     "name": "stdout",
     "output_type": "stream",
     "text": [
      "[[0.08 0.45 0.01 ... 0.   0.   0.  ]\n",
      " [0.02 0.45 0.76 ... 0.   0.   0.  ]\n",
      " [0.07 0.24 0.06 ... 0.   0.   0.  ]\n",
      " ...\n",
      " [0.16 0.37 0.25 ... 0.   0.91 0.28]\n",
      " [0.08 0.51 0.06 ... 0.   0.22 0.18]\n",
      " [0.2  0.78 0.14 ... 0.5  1.   0.13]]\n"
     ]
    }
   ],
   "source": [
    "print(X_test)"
   ]
  },
  {
   "cell_type": "code",
   "execution_count": 46,
   "metadata": {},
   "outputs": [
    {
     "data": {
      "text/plain": [
       "(1000,)"
      ]
     },
     "execution_count": 46,
     "metadata": {},
     "output_type": "execute_result"
    }
   ],
   "source": [
    "y_train.shape"
   ]
  },
  {
   "cell_type": "code",
   "execution_count": 15,
   "metadata": {},
   "outputs": [
    {
     "name": "stdout",
     "output_type": "stream",
     "text": [
      "[0. 1. 1. 0. 0. 0. 0. 1. 1. 0. 0. 0. 0. 0. 0. 1. 1. 0. 0. 0. 1. 1. 0. 1.\n",
      " 1. 0. 1. 0. 1. 0. 0. 0. 0. 1. 0. 0. 0. 0. 0. 0. 0. 0. 1. 0. 0. 0. 0. 0.\n",
      " 0. 0. 0. 1. 0. 0. 0. 0. 0. 0. 1. 0. 0. 0. 0. 1. 1. 0. 1. 0. 1. 0. 0. 0.\n",
      " 0. 0. 0. 0. 0. 1. 1. 1. 1. 0. 1. 0. 0. 0. 0. 0. 0. 0. 1. 0. 0. 0. 1. 1.\n",
      " 1. 0. 0. 0. 1. 0. 1. 0. 0. 1. 0. 0. 0. 1. 1. 0. 0. 0. 1. 0. 1. 0. 0. 1.\n",
      " 0. 0. 0. 0. 0. 0. 0. 0. 1. 0. 0. 0. 0. 0. 0. 0. 0. 0. 1. 0. 0. 0. 1. 0.\n",
      " 0. 1. 1. 0. 1. 1. 0. 1. 0. 0. 1. 1. 0. 1. 1. 0. 0. 0. 0. 0. 0. 0. 0. 0.\n",
      " 1. 1. 0. 0. 0. 0. 1. 0. 0. 1. 0. 0. 0. 0. 1. 0. 0. 1. 0. 0. 0. 0. 0. 0.\n",
      " 0. 0. 0. 0. 0. 1. 0. 1. 0. 0. 1. 1. 0. 0. 0. 0. 0. 0. 1. 0. 1. 0. 0. 1.\n",
      " 0. 0. 0. 0. 0. 1. 1. 0. 0. 0. 1. 0. 1. 1. 0. 0. 0. 1. 0. 0. 0. 0. 1. 0.\n",
      " 0. 0. 1. 1. 0. 0. 1. 0. 1. 0. 1. 1. 0. 0. 0. 1. 0. 0. 0. 0. 1. 1. 1. 0.\n",
      " 0. 0. 1. 0. 0. 1. 0. 0. 1. 0. 0. 1. 1. 0. 0. 0. 0. 0. 0. 1. 0. 0. 1. 0.\n",
      " 1. 0. 0. 0. 0. 0. 0. 0. 1. 0. 1. 1. 0. 0. 1. 0. 0. 1. 0. 1. 0. 0. 0. 0.\n",
      " 0. 1. 0. 1. 1. 1. 0. 0. 1. 0. 0. 0. 1. 1. 0. 0. 0. 1. 0. 1. 0. 1. 1. 0.\n",
      " 0. 0. 0. 0. 0. 0. 0. 0. 0. 0. 1. 0. 0. 0. 0. 0. 0. 0. 0. 0. 0. 0. 0. 0.\n",
      " 1. 0. 1. 0. 0. 1. 1. 0. 0. 0. 1. 0. 0. 0. 1. 1. 0. 0. 0. 0. 1. 0. 0. 0.\n",
      " 1. 1. 1. 1. 1. 0. 0. 0. 0. 1. 0. 0. 1. 0. 0. 1. 1. 1. 0. 0. 1. 1. 0. 1.\n",
      " 1. 0. 1. 0. 0. 1. 0. 0. 0. 0. 0. 0. 1. 1. 0. 1. 0. 0. 0. 1. 1. 1. 0. 1.\n",
      " 0. 0. 0. 0. 0. 0. 0. 0. 0. 1. 0. 0. 1. 0. 1. 1. 0. 0. 1. 0. 0. 0. 1. 0.\n",
      " 0. 1. 0. 0. 1. 0. 1. 1. 1. 0. 0. 0. 0. 0. 0. 0. 1. 1. 1. 0. 0. 1. 0. 0.\n",
      " 1. 0. 1. 0. 0. 0. 0. 0. 0. 0. 0. 1. 0. 0. 1. 0. 0. 0. 0. 1. 0. 0. 0. 0.\n",
      " 0. 1. 0. 0. 0. 0. 0. 0. 0. 0. 0. 0. 0. 0. 0. 0. 0. 0. 1. 0. 0. 1. 0. 0.\n",
      " 1. 0. 0. 0. 1. 0. 0. 0. 0. 0. 0. 1. 0. 0. 0. 0. 1. 1. 0. 0. 0. 0. 0. 0.\n",
      " 1. 0. 0. 1. 0. 1. 1. 0. 1. 0. 0. 0. 1. 0. 1. 1. 1. 1. 0. 0. 0. 0. 0. 0.\n",
      " 0. 0. 0. 0. 0. 0. 0. 0. 0. 0. 1. 1. 0. 0. 1. 1. 0. 0. 0. 0. 0. 0. 0. 0.\n",
      " 1. 1. 0. 0. 1. 0. 0. 0. 1. 0. 1. 0. 0. 0. 1. 1. 0. 0. 0. 0. 1. 0. 0. 0.\n",
      " 0. 0. 0. 0. 0. 0. 1. 1. 0. 1. 0. 0. 0. 1. 0. 0. 0. 1. 1. 0. 0. 0. 0. 0.\n",
      " 1. 0. 0. 0. 0. 0. 0. 0. 0. 0. 0. 1. 0. 0. 1. 1. 0. 0. 0. 1. 1. 1. 0. 0.\n",
      " 0. 1. 0. 1. 1. 0. 1. 0. 1. 1. 1. 0. 0. 0. 0. 1. 1. 0. 0. 1. 1. 1. 1. 1.\n",
      " 0. 0. 1. 1. 1. 0. 0. 0. 0. 1. 1. 0. 1. 0. 0. 1. 0. 0. 0. 0. 0. 0. 0. 0.\n",
      " 0. 0. 0. 1. 0. 0. 1. 1. 0. 0. 0. 1. 1. 0. 0. 1. 0. 0. 0. 0. 0. 0. 1. 0.\n",
      " 0. 0. 0. 0. 0. 0. 0. 0. 0. 0. 0. 0. 0. 0. 1. 0. 0. 0. 0. 0. 0. 0. 1. 0.\n",
      " 0. 0. 1. 0. 1. 0. 0. 1. 1. 1. 0. 1. 0. 1. 0. 1. 0. 0. 1. 0. 0. 0. 0. 1.\n",
      " 0. 0. 0. 0. 0. 0. 0. 0. 0. 0. 0. 1. 0. 0. 0. 0. 0. 0. 1. 0. 0. 0. 0. 0.\n",
      " 0. 0. 0. 0. 0. 1. 0. 0. 0. 0. 0. 0. 1. 1. 0. 0. 0. 0. 0. 1. 1. 0. 0. 0.\n",
      " 0. 1. 1. 1. 0. 1. 1. 1. 0. 0. 0. 0. 0. 0. 1. 1. 0. 1. 1. 0. 0. 0. 0. 0.\n",
      " 1. 0. 1. 1. 0. 1. 1. 1. 0. 0. 1. 0. 0. 0. 0. 0. 0. 0. 0. 1. 0. 0. 0. 0.\n",
      " 0. 0. 0. 0. 0. 0. 0. 0. 0. 0. 1. 0. 0. 0. 1. 0. 0. 0. 1. 0. 0. 1. 0. 0.\n",
      " 0. 0. 0. 0. 0. 1. 0. 0. 1. 0. 0. 0. 1. 0. 0. 0. 0. 0. 0. 1. 0. 0. 0. 0.\n",
      " 0. 0. 0. 0. 0. 0. 0. 0. 0. 1. 0. 1. 0. 0. 0. 0. 1. 1. 0. 1. 0. 1. 0. 0.\n",
      " 0. 1. 0. 0. 0. 0. 1. 0. 0. 1. 1. 0. 0. 1. 0. 0. 1. 1. 1. 0. 0. 0. 0. 0.\n",
      " 0. 0. 0. 0. 0. 0. 0. 1. 1. 0. 0. 1. 0. 0. 1. 0.]\n"
     ]
    }
   ],
   "source": [
    "print(y_train)"
   ]
  },
  {
   "cell_type": "code",
   "execution_count": 47,
   "metadata": {},
   "outputs": [
    {
     "data": {
      "text/plain": [
       "(994,)"
      ]
     },
     "execution_count": 47,
     "metadata": {},
     "output_type": "execute_result"
    }
   ],
   "source": [
    "y_test.shape"
   ]
  },
  {
   "cell_type": "code",
   "execution_count": 16,
   "metadata": {},
   "outputs": [
    {
     "name": "stdout",
     "output_type": "stream",
     "text": [
      "[0. 1. 0. 0. 1. 0. 1. 0. 1. 0. 0. 1. 1. 0. 0. 0. 0. 0. 0. 0. 0. 0. 0. 0.\n",
      " 0. 1. 0. 0. 0. 1. 0. 0. 0. 0. 0. 0. 0. 1. 0. 1. 0. 1. 0. 0. 1. 0. 0. 0.\n",
      " 0. 0. 0. 1. 1. 1. 1. 0. 1. 1. 1. 1. 0. 0. 0. 0. 0. 0. 0. 1. 0. 1. 0. 0.\n",
      " 0. 1. 0. 0. 0. 0. 0. 0. 0. 1. 0. 0. 0. 1. 0. 0. 0. 0. 0. 1. 0. 1. 0. 0.\n",
      " 1. 0. 0. 0. 0. 0. 1. 0. 0. 0. 0. 0. 1. 0. 0. 0. 0. 0. 0. 0. 1. 0. 0. 1.\n",
      " 0. 0. 0. 0. 0. 1. 0. 0. 0. 1. 0. 0. 0. 0. 1. 0. 1. 0. 0. 0. 0. 0. 1. 0.\n",
      " 0. 1. 1. 0. 0. 1. 0. 1. 0. 1. 1. 0. 1. 1. 0. 1. 1. 0. 1. 0. 0. 1. 1. 0.\n",
      " 0. 1. 1. 1. 0. 0. 0. 0. 0. 0. 0. 0. 1. 0. 1. 1. 0. 1. 0. 1. 0. 0. 0. 0.\n",
      " 1. 0. 0. 1. 1. 0. 0. 0. 1. 0. 0. 0. 1. 0. 0. 1. 1. 0. 0. 1. 0. 0. 0. 0.\n",
      " 0. 0. 0. 0. 0. 0. 0. 0. 0. 0. 0. 0. 0. 1. 0. 0. 1. 0. 0. 1. 0. 1. 0. 0.\n",
      " 1. 0. 0. 0. 1. 0. 0. 0. 0. 0. 1. 0. 0. 1. 0. 0. 0. 1. 0. 0. 0. 1. 1. 0.\n",
      " 0. 1. 0. 0. 0. 1. 1. 1. 0. 1. 1. 0. 0. 0. 0. 1. 0. 0. 0. 1. 0. 1. 1. 1.\n",
      " 0. 0. 0. 0. 1. 0. 0. 1. 0. 0. 0. 0. 0. 1. 0. 1. 0. 0. 1. 1. 0. 0. 1. 0.\n",
      " 1. 1. 0. 0. 0. 0. 0. 0. 1. 1. 0. 0. 0. 1. 1. 0. 0. 0. 0. 1. 0. 1. 0. 0.\n",
      " 0. 0. 1. 0. 0. 1. 0. 0. 0. 0. 0. 0. 0. 0. 1. 0. 0. 1. 0. 0. 0. 0. 0. 0.\n",
      " 1. 0. 0. 0. 1. 0. 1. 0. 0. 0. 1. 0. 1. 1. 0. 0. 1. 0. 1. 1. 1. 0. 1. 0.\n",
      " 0. 0. 0. 0. 0. 1. 0. 0. 1. 1. 0. 0. 0. 1. 0. 0. 0. 0. 1. 0. 0. 0. 0. 0.\n",
      " 0. 0. 0. 0. 0. 1. 0. 0. 0. 0. 0. 0. 1. 1. 0. 0. 0. 0. 0. 0. 1. 0. 0. 1.\n",
      " 1. 0. 0. 0. 1. 0. 0. 0. 0. 1. 0. 0. 1. 0. 0. 0. 0. 0. 1. 1. 1. 0. 0. 0.\n",
      " 1. 1. 0. 1. 0. 0. 0. 0. 0. 1. 0. 1. 0. 1. 0. 0. 1. 0. 0. 0. 0. 1. 0. 1.\n",
      " 1. 1. 0. 0. 0. 0. 1. 1. 0. 0. 0. 0. 1. 0. 0. 0. 0. 0. 0. 0. 0. 0. 1. 0.\n",
      " 0. 0. 1. 1. 1. 1. 0. 1. 1. 0. 1. 0. 0. 0. 1. 0. 0. 0. 0. 1. 1. 0. 0. 0.\n",
      " 0. 0. 0. 0. 1. 0. 0. 0. 1. 1. 1. 1. 0. 0. 0. 1. 1. 0. 0. 0. 0. 0. 0. 0.\n",
      " 0. 0. 1. 1. 1. 1. 0. 0. 1. 0. 0. 1. 0. 0. 0. 1. 0. 1. 1. 0. 0. 1. 1. 0.\n",
      " 0. 0. 0. 0. 1. 0. 1. 0. 0. 0. 0. 0. 0. 0. 1. 0. 0. 0. 0. 1. 0. 1. 0. 0.\n",
      " 0. 1. 0. 0. 0. 0. 0. 1. 0. 0. 1. 0. 1. 0. 0. 0. 0. 1. 0. 0. 0. 0. 0. 1.\n",
      " 1. 1. 1. 0. 1. 0. 0. 0. 1. 1. 0. 0. 1. 0. 0. 0. 1. 0. 0. 0. 0. 0. 0. 1.\n",
      " 0. 0. 0. 0. 0. 0. 0. 1. 0. 0. 0. 0. 0. 1. 1. 1. 1. 0. 0. 0. 0. 0. 1. 0.\n",
      " 0. 0. 0. 0. 0. 1. 1. 0. 0. 0. 0. 1. 1. 0. 1. 0. 0. 1. 1. 1. 0. 0. 0. 1.\n",
      " 0. 0. 1. 1. 1. 0. 0. 1. 0. 0. 0. 1. 0. 0. 0. 0. 0. 0. 0. 0. 0. 0. 0. 0.\n",
      " 0. 1. 0. 0. 0. 0. 1. 1. 1. 1. 0. 0. 0. 0. 0. 0. 0. 0. 0. 0. 0. 0. 0. 0.\n",
      " 0. 0. 0. 1. 0. 1. 0. 1. 0. 1. 1. 0. 0. 0. 0. 1. 0. 0. 0. 0. 0. 0. 0. 1.\n",
      " 0. 0. 1. 0. 0. 1. 0. 1. 0. 1. 1. 0. 0. 0. 0. 1. 0. 0. 0. 0. 1. 1. 1. 0.\n",
      " 1. 0. 0. 0. 0. 0. 0. 0. 0. 1. 0. 0. 0. 1. 0. 0. 0. 0. 1. 1. 0. 1. 0. 1.\n",
      " 0. 1. 0. 0. 0. 1. 0. 1. 0. 0. 0. 0. 0. 0. 0. 1. 0. 0. 0. 1. 1. 0. 1. 0.\n",
      " 0. 0. 0. 1. 0. 0. 0. 1. 0. 1. 0. 0. 1. 0. 0. 0. 0. 0. 0. 1. 0. 0. 0. 0.\n",
      " 0. 1. 0. 0. 0. 0. 1. 0. 1. 0. 0. 1. 0. 0. 1. 0. 0. 0. 0. 0. 1. 0. 1. 1.\n",
      " 0. 0. 0. 0. 0. 1. 0. 0. 0. 0. 0. 0. 1. 0. 0. 0. 0. 0. 0. 1. 0. 0. 1. 0.\n",
      " 0. 1. 1. 0. 1. 0. 1. 0. 0. 0. 1. 0. 0. 1. 0. 0. 0. 0. 0. 0. 0. 0. 0. 0.\n",
      " 0. 0. 0. 0. 1. 0. 0. 0. 0. 0. 0. 0. 0. 0. 0. 0. 0. 0. 1. 0. 1. 1. 1. 0.\n",
      " 0. 0. 1. 1. 1. 1. 1. 0. 0. 1. 1. 0. 1. 0. 1. 0. 0. 0. 0. 0. 0. 0. 0. 1.\n",
      " 0. 0. 0. 0. 0. 0. 1. 0. 0. 1.]\n"
     ]
    }
   ],
   "source": [
    "print(y_test)"
   ]
  },
  {
   "cell_type": "markdown",
   "metadata": {},
   "source": [
    "## Part 2: Training a Model\n",
    "\n",
    "Scikit-learn features modules for a wide variety of machine learning algorithms, such as the ones we've been discussing in class. Read the documentation to understand how to train these models and generate predictions.\n",
    "- Logistic Regression documentation: https://scikit-learn.org/stable/modules/generated/sklearn.linear_model.LogisticRegression.html\n",
    "- Decision Tree documentation: https://scikit-learn.org/stable/modules/generated/sklearn.tree.DecisionTreeClassifier.html\n",
    "\n"
   ]
  },
  {
   "cell_type": "code",
   "execution_count": 18,
   "metadata": {},
   "outputs": [],
   "source": [
    "from sklearn import linear_model, tree\n",
    "\n",
    "dt = tree.DecisionTreeClassifier(max_depth=5)\n",
    "logreg = linear_model.LogisticRegression()"
   ]
  },
  {
   "cell_type": "markdown",
   "metadata": {},
   "source": [
    "### 2.1: Making Predictions with Decision Trees and Linear Regression (10 points)\n",
    "\n",
    "Using your X_train and y_train arrays, train:\n",
    "- a Decision Tree model\n",
    "- a linear model via Logistic Regression (this may throw a DataConversionWarning which you can ignore)\n",
    "\n",
    "Using x_test, generate \"y_hat\" predictions (one set of predictions with each model). Print the shape of each prediction array."
   ]
  },
  {
   "cell_type": "code",
   "execution_count": 19,
   "metadata": {},
   "outputs": [],
   "source": [
    "## Train the decision tree model ...\n",
    "dt_trained = dt.fit(X_train, y_train, sample_weight=None, check_input=True, X_idx_sorted=None)"
   ]
  },
  {
   "cell_type": "code",
   "execution_count": 20,
   "metadata": {},
   "outputs": [],
   "source": [
    "## Test the decision tree model ...\n",
    "y_hat_dt = dt_trained.predict(X_test, check_input=True)"
   ]
  },
  {
   "cell_type": "code",
   "execution_count": 21,
   "metadata": {},
   "outputs": [
    {
     "data": {
      "text/plain": [
       "(994,)"
      ]
     },
     "execution_count": 21,
     "metadata": {},
     "output_type": "execute_result"
    }
   ],
   "source": [
    "y_hat_dt.shape"
   ]
  },
  {
   "cell_type": "code",
   "execution_count": 22,
   "metadata": {},
   "outputs": [
    {
     "name": "stdout",
     "output_type": "stream",
     "text": [
      "[0. 1. 0. 0. 1. 0. 1. 0. 1. 0. 0. 1. 1. 0. 0. 0. 0. 0. 0. 0. 1. 1. 0. 0.\n",
      " 0. 1. 0. 0. 1. 1. 0. 0. 0. 0. 1. 0. 0. 1. 0. 0. 0. 1. 0. 0. 1. 0. 0. 0.\n",
      " 0. 0. 1. 0. 1. 0. 0. 1. 1. 0. 0. 0. 0. 0. 0. 0. 0. 0. 0. 0. 0. 1. 0. 1.\n",
      " 0. 1. 0. 0. 0. 0. 0. 0. 0. 0. 0. 0. 0. 0. 0. 0. 0. 0. 0. 1. 0. 1. 0. 1.\n",
      " 0. 0. 1. 1. 0. 0. 0. 0. 0. 0. 0. 0. 1. 0. 0. 0. 0. 0. 0. 0. 0. 0. 0. 1.\n",
      " 0. 0. 0. 0. 1. 0. 0. 0. 1. 0. 0. 0. 0. 0. 1. 0. 0. 0. 0. 0. 0. 0. 1. 0.\n",
      " 1. 0. 1. 0. 0. 1. 0. 1. 0. 1. 1. 0. 0. 0. 0. 1. 1. 0. 0. 0. 1. 1. 1. 0.\n",
      " 0. 1. 0. 1. 0. 0. 0. 0. 0. 0. 0. 0. 1. 0. 1. 1. 0. 0. 0. 1. 0. 0. 0. 0.\n",
      " 0. 0. 1. 0. 1. 0. 0. 0. 1. 0. 0. 0. 0. 0. 0. 1. 1. 0. 0. 1. 0. 0. 0. 0.\n",
      " 1. 0. 0. 0. 1. 0. 0. 0. 0. 0. 0. 0. 0. 0. 0. 0. 0. 0. 0. 0. 0. 1. 0. 0.\n",
      " 1. 0. 0. 0. 1. 0. 0. 1. 0. 0. 0. 0. 0. 1. 0. 0. 0. 1. 1. 0. 0. 1. 1. 0.\n",
      " 0. 0. 0. 0. 0. 1. 1. 1. 0. 1. 1. 0. 0. 0. 0. 1. 0. 0. 0. 0. 0. 1. 0. 1.\n",
      " 0. 0. 0. 0. 1. 0. 0. 1. 0. 0. 0. 0. 0. 0. 0. 1. 0. 0. 1. 1. 0. 0. 1. 0.\n",
      " 0. 1. 0. 0. 0. 0. 0. 0. 0. 0. 0. 0. 0. 1. 0. 0. 0. 0. 0. 0. 0. 1. 0. 0.\n",
      " 0. 0. 0. 0. 0. 1. 0. 0. 0. 0. 0. 0. 0. 0. 1. 1. 0. 1. 0. 0. 0. 0. 1. 0.\n",
      " 0. 1. 0. 0. 1. 0. 0. 0. 0. 0. 1. 0. 1. 1. 0. 0. 1. 0. 1. 0. 1. 0. 0. 0.\n",
      " 0. 0. 0. 0. 0. 0. 0. 0. 1. 1. 0. 1. 0. 1. 1. 0. 0. 0. 1. 0. 1. 0. 0. 0.\n",
      " 0. 0. 0. 0. 0. 1. 0. 0. 0. 0. 1. 0. 0. 0. 0. 0. 0. 0. 0. 1. 1. 1. 0. 0.\n",
      " 1. 1. 0. 0. 1. 0. 0. 0. 0. 1. 0. 0. 0. 0. 0. 0. 0. 1. 1. 1. 0. 0. 0. 0.\n",
      " 1. 0. 0. 0. 0. 0. 0. 0. 0. 1. 0. 0. 1. 0. 0. 0. 0. 0. 0. 0. 0. 1. 0. 0.\n",
      " 0. 1. 0. 0. 0. 0. 1. 1. 0. 0. 1. 0. 1. 0. 0. 0. 0. 0. 0. 0. 1. 0. 1. 0.\n",
      " 0. 0. 1. 0. 1. 1. 1. 1. 1. 0. 1. 0. 0. 0. 0. 0. 0. 0. 0. 1. 1. 0. 0. 0.\n",
      " 0. 0. 0. 0. 1. 0. 0. 0. 1. 0. 1. 1. 1. 1. 0. 1. 1. 0. 0. 0. 0. 0. 0. 0.\n",
      " 0. 0. 0. 0. 0. 0. 0. 0. 0. 0. 0. 1. 0. 0. 0. 0. 0. 1. 0. 0. 0. 0. 0. 0.\n",
      " 0. 0. 0. 0. 1. 0. 1. 0. 0. 0. 0. 0. 0. 0. 1. 0. 0. 0. 0. 1. 0. 0. 1. 0.\n",
      " 0. 1. 0. 0. 0. 0. 0. 1. 1. 0. 1. 0. 1. 0. 0. 0. 0. 0. 0. 1. 0. 0. 0. 1.\n",
      " 0. 1. 1. 0. 0. 0. 0. 0. 0. 1. 0. 0. 1. 0. 0. 0. 1. 0. 0. 0. 0. 0. 0. 0.\n",
      " 0. 1. 0. 0. 0. 0. 0. 0. 0. 0. 0. 0. 0. 1. 1. 0. 0. 0. 0. 0. 0. 1. 1. 0.\n",
      " 0. 0. 0. 0. 0. 1. 1. 0. 0. 0. 0. 0. 1. 0. 1. 0. 0. 0. 1. 0. 0. 0. 0. 0.\n",
      " 0. 0. 1. 0. 0. 0. 0. 1. 0. 0. 0. 1. 0. 0. 0. 1. 0. 0. 0. 0. 0. 0. 0. 0.\n",
      " 1. 1. 0. 0. 0. 0. 0. 1. 0. 0. 0. 0. 0. 0. 0. 0. 0. 0. 0. 0. 0. 0. 0. 0.\n",
      " 0. 0. 1. 1. 0. 1. 0. 1. 0. 0. 0. 0. 0. 0. 0. 1. 0. 0. 0. 0. 0. 0. 0. 1.\n",
      " 0. 0. 0. 0. 0. 1. 1. 1. 0. 1. 0. 0. 0. 0. 0. 0. 0. 0. 0. 0. 0. 1. 1. 0.\n",
      " 0. 0. 0. 0. 0. 0. 0. 0. 0. 1. 0. 0. 0. 0. 0. 0. 1. 0. 0. 0. 0. 1. 0. 1.\n",
      " 0. 1. 0. 0. 0. 0. 1. 0. 0. 0. 0. 0. 0. 0. 0. 0. 0. 0. 0. 1. 1. 0. 1. 0.\n",
      " 1. 1. 1. 1. 0. 0. 0. 1. 0. 1. 0. 0. 0. 0. 0. 0. 0. 0. 0. 0. 0. 0. 0. 0.\n",
      " 0. 1. 0. 0. 0. 0. 0. 0. 1. 0. 0. 0. 0. 0. 1. 1. 0. 0. 0. 0. 0. 0. 0. 0.\n",
      " 0. 0. 0. 1. 0. 0. 0. 0. 0. 0. 0. 0. 0. 0. 0. 0. 0. 0. 0. 1. 0. 0. 1. 0.\n",
      " 0. 0. 0. 0. 1. 0. 1. 0. 1. 0. 1. 0. 0. 1. 0. 0. 0. 0. 0. 0. 0. 0. 0. 0.\n",
      " 0. 0. 0. 0. 1. 0. 0. 0. 0. 0. 0. 0. 0. 1. 0. 0. 0. 0. 1. 0. 0. 1. 0. 0.\n",
      " 0. 0. 1. 1. 1. 1. 0. 0. 1. 1. 0. 0. 0. 0. 1. 0. 0. 0. 0. 0. 0. 0. 0. 0.\n",
      " 0. 0. 0. 0. 0. 0. 1. 1. 0. 1.]\n"
     ]
    }
   ],
   "source": [
    "print(y_hat_dt)"
   ]
  },
  {
   "cell_type": "code",
   "execution_count": 23,
   "metadata": {},
   "outputs": [],
   "source": [
    "## Train a linear model via Logistic Regression ...\n",
    "logreg_trained = logreg.fit(X_train, y_train, sample_weight=None)"
   ]
  },
  {
   "cell_type": "code",
   "execution_count": 24,
   "metadata": {},
   "outputs": [],
   "source": [
    "## Test the linear model via Logistic Regression ...\n",
    "y_hat_logreg = logreg_trained.predict(X_test)"
   ]
  },
  {
   "cell_type": "code",
   "execution_count": 27,
   "metadata": {},
   "outputs": [
    {
     "data": {
      "text/plain": [
       "(994,)"
      ]
     },
     "execution_count": 27,
     "metadata": {},
     "output_type": "execute_result"
    }
   ],
   "source": [
    "y_hat_logreg.shape"
   ]
  },
  {
   "cell_type": "code",
   "execution_count": 28,
   "metadata": {},
   "outputs": [
    {
     "name": "stdout",
     "output_type": "stream",
     "text": [
      "[0. 1. 0. 0. 1. 0. 1. 0. 0. 0. 0. 1. 1. 0. 0. 0. 0. 0. 0. 0. 1. 0. 0. 0.\n",
      " 0. 1. 0. 0. 0. 1. 0. 0. 0. 0. 1. 0. 0. 0. 0. 1. 0. 1. 0. 0. 1. 0. 0. 0.\n",
      " 0. 0. 0. 1. 1. 1. 0. 0. 1. 0. 0. 0. 1. 0. 0. 0. 1. 1. 0. 0. 0. 1. 0. 0.\n",
      " 0. 1. 0. 0. 0. 0. 0. 0. 0. 0. 0. 0. 0. 0. 0. 0. 0. 0. 0. 0. 0. 1. 0. 1.\n",
      " 0. 0. 0. 1. 0. 0. 0. 1. 0. 0. 0. 0. 1. 0. 0. 0. 0. 0. 0. 0. 0. 0. 0. 1.\n",
      " 0. 0. 0. 0. 0. 1. 0. 0. 1. 0. 0. 0. 0. 0. 1. 0. 0. 0. 0. 0. 0. 0. 1. 0.\n",
      " 0. 0. 1. 0. 0. 1. 0. 1. 0. 0. 1. 0. 0. 1. 0. 1. 1. 0. 0. 0. 1. 1. 0. 0.\n",
      " 0. 1. 1. 1. 0. 0. 0. 0. 0. 0. 0. 0. 1. 0. 1. 1. 0. 0. 0. 1. 0. 0. 0. 0.\n",
      " 0. 0. 0. 0. 1. 0. 0. 0. 1. 0. 0. 0. 0. 0. 0. 1. 1. 0. 0. 1. 0. 0. 0. 0.\n",
      " 1. 1. 0. 0. 1. 0. 0. 0. 0. 0. 0. 0. 0. 0. 0. 0. 0. 0. 0. 0. 0. 1. 0. 0.\n",
      " 1. 0. 0. 0. 1. 0. 0. 0. 0. 0. 1. 0. 0. 1. 0. 0. 0. 1. 0. 0. 0. 1. 1. 0.\n",
      " 0. 1. 0. 0. 0. 1. 1. 1. 0. 1. 1. 0. 0. 0. 0. 1. 0. 0. 0. 1. 0. 1. 0. 1.\n",
      " 0. 0. 1. 0. 1. 0. 0. 1. 1. 0. 0. 1. 0. 1. 0. 1. 0. 0. 1. 1. 0. 0. 1. 0.\n",
      " 1. 1. 0. 0. 0. 0. 0. 0. 0. 0. 0. 0. 0. 0. 1. 0. 0. 0. 0. 0. 0. 0. 0. 0.\n",
      " 0. 0. 0. 0. 0. 1. 0. 0. 0. 0. 0. 0. 0. 0. 1. 1. 0. 1. 1. 0. 0. 0. 0. 0.\n",
      " 0. 0. 0. 0. 1. 0. 0. 0. 0. 0. 1. 0. 1. 0. 0. 0. 1. 0. 1. 1. 1. 0. 0. 0.\n",
      " 0. 0. 0. 0. 0. 1. 0. 0. 1. 1. 0. 0. 0. 1. 0. 0. 0. 0. 1. 0. 0. 0. 0. 0.\n",
      " 0. 0. 0. 0. 0. 1. 0. 0. 0. 0. 0. 0. 0. 0. 0. 0. 0. 0. 0. 0. 1. 0. 0. 0.\n",
      " 1. 0. 0. 0. 1. 0. 0. 0. 0. 1. 0. 0. 0. 0. 0. 0. 0. 0. 1. 1. 0. 1. 0. 0.\n",
      " 1. 0. 0. 0. 0. 0. 0. 0. 0. 0. 0. 0. 0. 1. 1. 0. 0. 0. 0. 0. 0. 1. 0. 1.\n",
      " 0. 1. 0. 0. 0. 0. 1. 0. 0. 0. 0. 0. 1. 0. 1. 0. 0. 0. 0. 0. 0. 0. 1. 0.\n",
      " 0. 0. 1. 0. 1. 1. 0. 1. 1. 0. 0. 0. 0. 0. 0. 0. 0. 0. 0. 1. 1. 0. 0. 0.\n",
      " 0. 0. 0. 0. 0. 0. 1. 0. 1. 0. 1. 1. 0. 0. 0. 1. 1. 0. 0. 0. 0. 0. 0. 0.\n",
      " 0. 0. 1. 0. 0. 0. 0. 0. 0. 0. 0. 1. 0. 0. 1. 1. 0. 1. 0. 0. 0. 0. 0. 0.\n",
      " 0. 0. 0. 0. 1. 0. 1. 0. 0. 0. 0. 0. 0. 0. 0. 0. 0. 0. 0. 1. 0. 0. 0. 0.\n",
      " 0. 1. 0. 0. 0. 0. 0. 1. 0. 0. 1. 0. 1. 0. 0. 0. 0. 0. 0. 1. 0. 0. 0. 0.\n",
      " 0. 1. 0. 0. 0. 0. 0. 0. 1. 1. 0. 0. 1. 0. 0. 0. 1. 1. 0. 0. 0. 0. 0. 1.\n",
      " 0. 0. 0. 0. 0. 0. 0. 0. 0. 0. 0. 0. 0. 1. 1. 0. 0. 0. 0. 0. 0. 1. 1. 0.\n",
      " 0. 0. 0. 0. 0. 1. 1. 0. 0. 0. 0. 0. 1. 0. 0. 0. 0. 0. 1. 0. 1. 0. 0. 0.\n",
      " 0. 0. 1. 0. 0. 0. 0. 1. 0. 0. 0. 1. 0. 0. 1. 1. 0. 0. 0. 0. 0. 0. 1. 0.\n",
      " 0. 1. 0. 0. 1. 0. 1. 1. 0. 0. 0. 0. 0. 0. 0. 0. 0. 0. 0. 0. 0. 0. 1. 0.\n",
      " 0. 0. 0. 0. 0. 1. 0. 1. 0. 0. 0. 0. 0. 0. 0. 1. 0. 0. 0. 0. 0. 0. 0. 1.\n",
      " 0. 0. 1. 0. 0. 1. 0. 1. 0. 1. 1. 0. 0. 0. 0. 0. 0. 0. 0. 1. 0. 1. 1. 0.\n",
      " 1. 0. 0. 0. 0. 0. 0. 0. 0. 1. 0. 0. 0. 0. 0. 0. 1. 0. 1. 0. 0. 0. 0. 1.\n",
      " 0. 1. 0. 0. 0. 0. 1. 0. 0. 0. 0. 0. 0. 0. 0. 1. 0. 0. 0. 1. 1. 0. 1. 0.\n",
      " 0. 1. 1. 1. 0. 0. 0. 1. 0. 1. 0. 0. 0. 0. 0. 0. 0. 0. 0. 1. 0. 0. 0. 0.\n",
      " 0. 1. 0. 0. 0. 0. 0. 0. 1. 0. 0. 0. 0. 0. 1. 1. 0. 0. 0. 0. 0. 0. 0. 1.\n",
      " 0. 0. 0. 0. 0. 0. 0. 0. 0. 0. 0. 0. 0. 0. 0. 0. 0. 0. 0. 1. 0. 0. 1. 0.\n",
      " 0. 0. 0. 0. 1. 0. 0. 0. 1. 0. 1. 0. 0. 1. 0. 0. 0. 0. 0. 0. 0. 0. 0. 0.\n",
      " 0. 0. 0. 0. 0. 0. 0. 0. 0. 0. 0. 0. 0. 1. 0. 0. 0. 0. 1. 0. 0. 1. 0. 0.\n",
      " 0. 0. 1. 1. 1. 1. 0. 0. 0. 1. 0. 0. 0. 0. 1. 0. 0. 0. 0. 0. 0. 0. 0. 1.\n",
      " 0. 0. 0. 0. 1. 0. 1. 1. 0. 1.]\n"
     ]
    }
   ],
   "source": [
    "print(y_hat_logreg)"
   ]
  },
  {
   "cell_type": "markdown",
   "metadata": {},
   "source": [
    "## Part 3: Evaluating a Model (5 points)\n",
    "\n",
    "Write a function which takes in 2 binary arrays as arguments (i.e. y and y_hat) and computes the prediction error as a decimal between 0 and 1. Use this function to compute the errors for your Decision Tree and Logistic Regression models."
   ]
  },
  {
   "cell_type": "code",
   "execution_count": 29,
   "metadata": {},
   "outputs": [],
   "source": [
    "def error(y, y_hat):\n",
    "    loss = 0\n",
    "    \n",
    "    ## check that parameters are correctly formatted\n",
    "    if(not(len(y) == len(y_hat))):\n",
    "        raise Exception(\"Unequal parameter lengths\")\n",
    "    \n",
    "    for i in range(0, len(y)):\n",
    "        if(not(y[i] == y_hat[i])):\n",
    "            loss += 1\n",
    "            \n",
    "    return loss/len(y)"
   ]
  },
  {
   "cell_type": "code",
   "execution_count": 30,
   "metadata": {},
   "outputs": [
    {
     "data": {
      "text/plain": [
       "(0.17303822937625754, 0.14989939637826963)"
      ]
     },
     "execution_count": 30,
     "metadata": {},
     "output_type": "execute_result"
    }
   ],
   "source": [
    "(error(y_test, y_hat_dt), error(y_test, y_hat_logreg))"
   ]
  },
  {
   "cell_type": "markdown",
   "metadata": {},
   "source": [
    "## Part 4: Visualizing Tradeoffs"
   ]
  },
  {
   "cell_type": "markdown",
   "metadata": {},
   "source": [
    "### Using matplotlib\n",
    "\n",
    "Matplotlib is a powerful library for graphing and data visualization in Python. Below we demonstrate some of its features in a generic plot:"
   ]
  },
  {
   "cell_type": "code",
   "execution_count": 31,
   "metadata": {},
   "outputs": [
    {
     "data": {
      "image/png": "[encoded data removed]",
      "text/plain": [
       "<Figure size 432x288 with 1 Axes>"
      ]
     },
     "metadata": {
      "needs_background": "light"
     },
     "output_type": "display_data"
    }
   ],
   "source": [
    "%matplotlib inline\n",
    "\n",
    "import matplotlib.pyplot as plt\n",
    "import random\n",
    "\n",
    "# Sample 100 random values from [0,1]\n",
    "y1_example = np.array([random.random() for i in range(100)])\n",
    "y2_example = np.array([i *0.01 for i in range(100)])\n",
    "# Create an array with the indices\n",
    "x_example = np.array(range(len(y1_example)))\n",
    "\n",
    "# Create a plot with a caption, X and Y legends, etc\n",
    "x_label = 'X value'\n",
    "y_label = 'Y value'\n",
    "plt.title('Example Plot')\n",
    "plt.xlabel(x_label)\n",
    "plt.ylabel(y_label)\n",
    "\n",
    "\n",
    "plt.scatter(x_example, y1_example, color='red', label='Points')\n",
    "plt.plot(x_example, y1_example, color='blue', label='Line 1')\n",
    "plt.plot(x_example, y2_example, color='green', label='Line 2')\n",
    "plt.legend()\n",
    "\n",
    "plt.show()"
   ]
  },
  {
   "cell_type": "markdown",
   "metadata": {},
   "source": [
    "### 4.1: Sample Size vs Generalization Error (10 points)\n",
    "\n",
    "Write code which creates training sets of size $n \\in \\{10,20,...,990,1000\\}$ by taking the first $n$ rows of X_train and y_train (give these different names from the original arrays). Train Decision Tree and Logistic Regression models with each of these training sets, generate out-of-sample predictions using X_test, and compute error using y_train as above.\n",
    "\n",
    "Generate a matplotlib plot with \"Sample Size\" as the X-axis and \"Test Error\" as the Y-axis. Plot lines for both the Decision Tree and Logistic Regression results. Plot your lines in different colors and include a legend to specify which line belongs to which model class. \n",
    "\n",
    "__Disclaimer:__ The results you will see show that test error decreases quickly the number of samples in the dataset. Often, in practice, it takes tens of thousands of training samples to see a meaningful decrease in test error."
   ]
  },
  {
   "cell_type": "code",
   "execution_count": 32,
   "metadata": {},
   "outputs": [],
   "source": [
    "## find the error with Decision Tree\n",
    "\n",
    "def DT_testErrorWithN(n, training_data, testing_data):\n",
    "    ## take the first n rows of X_train and y_train\n",
    "    trainX = training_data[0:n, :]\n",
    "    trainY = y_train[0:n]\n",
    "    \n",
    "    ## train Decision Tree\n",
    "    ## with each of these training sets\n",
    "    dt = tree.DecisionTreeClassifier(max_depth=5)\n",
    "    dt_train = dt.fit(trainX, trainY, sample_weight=None, check_input=True, X_idx_sorted=None)\n",
    "    y_hat_dectree = dt_train.predict(testing_data, check_input=True)\n",
    "    \n",
    "    ## compute error\n",
    "    return error(y_test, y_hat_dectree)"
   ]
  },
  {
   "cell_type": "code",
   "execution_count": 33,
   "metadata": {},
   "outputs": [],
   "source": [
    "## find the error with Logistic Regression\n",
    "\n",
    "def LR_testErrorWithN(n, training_data, testing_data):\n",
    "    ## take the first n rows of X_train and y_train\n",
    "    trainX = training_data[0:n, :]\n",
    "    trainY = y_train[0:n]\n",
    "    \n",
    "    ## train Logistic Regression model\n",
    "    ## with each of these training sets\n",
    "    logreg = linear_model.LogisticRegression()\n",
    "    logreg_train = logreg.fit(trainX, trainY, sample_weight=None)\n",
    "    y_hat_lg = logreg_train.predict(testing_data)\n",
    "    \n",
    "    ## compute error\n",
    "    return error(y_test, y_hat_lg)"
   ]
  },
  {
   "cell_type": "code",
   "execution_count": 34,
   "metadata": {},
   "outputs": [
    {
     "data": {
      "image/png": "[encoded data removed]",
      "text/plain": [
       "<Figure size 432x288 with 1 Axes>"
      ]
     },
     "metadata": {
      "needs_background": "light"
     },
     "output_type": "display_data"
    }
   ],
   "source": [
    "## Generate plot\n",
    "\n",
    "%matplotlib inline\n",
    "\n",
    "import matplotlib.pyplot as plt\n",
    "\n",
    "# Create array with sample sizes\n",
    "sampleSizes = [i for i in range(10, 1010, 10)]\n",
    "\n",
    "# Create arrays with indices\n",
    "decisionTree = [DT_testErrorWithN(a, X_train, X_test) for a in sampleSizes]\n",
    "logReg = [LR_testErrorWithN(a, X_train, X_test) for a in sampleSizes]\n",
    "\n",
    "# Create a plot with a caption, X and Y legends, etc\n",
    "x_label = 'Sample Size'\n",
    "y_label = 'Test Error'\n",
    "plt.title('Test Error vs. Sample Size')\n",
    "plt.xlabel(x_label)\n",
    "plt.ylabel(y_label)\n",
    "\n",
    "plt.plot(sampleSizes, decisionTree, color='blue', label='Decision Tree') ## (x, y, ...)\n",
    "plt.plot(sampleSizes, logReg, color='green', label='Logistic Regression')\n",
    "plt.legend()\n",
    "\n",
    "plt.show()"
   ]
  },
  {
   "cell_type": "markdown",
   "metadata": {},
   "source": [
    "### 4.2: Model Complexity vs Generalization Error (10 points)\n",
    "\n",
    "Vary the max depth of the decision tree from 1 to 15. Plot the resulting error when training a model with all 1000 rows of X_train and y_train. You can adjust the max depth by reinstantiating the DecisionTreeClassifier module with a max_depth parameter:\n",
    "\n",
    "dt = tree.DecisionTreeClassifier(max_depth=i)\n",
    "\n",
    "Generate a plot with \"Max Depth\" as the X-axis and \"Test Error\" as the Y-axis. Plot the error when predicting labels for X_train as well as X_test for each value of the maximum tree depth. Plot your lines in different colors and include a legend to specify which line belongs to which model class. "
   ]
  },
  {
   "cell_type": "code",
   "execution_count": 35,
   "metadata": {},
   "outputs": [],
   "source": [
    "def variedDepthTrain(depth, training_data, predictingFor, target):\n",
    "    ## train Decision Tree\n",
    "    ## using given depth\n",
    "    dt = tree.DecisionTreeClassifier(max_depth=depth)\n",
    "    dt_train = dt.fit(training_data, y_train, sample_weight=None, check_input=True, X_idx_sorted=None)\n",
    "    y_hat_dectree = dt_train.predict(predictingFor, check_input=True)\n",
    "    \n",
    "    ## compute error\n",
    "    return error(target, y_hat_dectree)"
   ]
  },
  {
   "cell_type": "code",
   "execution_count": 36,
   "metadata": {},
   "outputs": [
    {
     "data": {
      "image/png": "[encoded data removed]",
      "text/plain": [
       "<Figure size 432x288 with 1 Axes>"
      ]
     },
     "metadata": {
      "needs_background": "light"
     },
     "output_type": "display_data"
    }
   ],
   "source": [
    "## Generate plot\n",
    "\n",
    "%matplotlib inline\n",
    "\n",
    "import matplotlib.pyplot as plt\n",
    "\n",
    "# Create array with depth sizes\n",
    "depthSizes = np.array([i for i in range(1, 16)])\n",
    "\n",
    "# Create arrays with indices\n",
    "X_Test_Error = np.array([variedDepthTrain(a, X_train, X_test, y_test) for a in depthSizes])\n",
    "X_Train_Error = np.array([variedDepthTrain(a, X_train, X_train, y_train) for a in depthSizes])\n",
    "\n",
    "# Create a plot with a caption, X and Y legends, etc\n",
    "x_label = 'Max Depth'\n",
    "y_label = 'Test Error'\n",
    "plt.title('Test Error vs. Max Depth')\n",
    "plt.xlabel(x_label)\n",
    "plt.ylabel(y_label)\n",
    "\n",
    "plt.plot(depthSizes, X_Test_Error, color='blue', label='X_test')\n",
    "plt.plot(depthSizes, X_Train_Error, color='green', label='X_train')\n",
    "plt.legend()\n",
    "\n",
    "plt.show()"
   ]
  },
  {
   "cell_type": "markdown",
   "metadata": {},
   "source": [
    "## Part 5: Observing Error Disparities\n",
    "\n",
    "In this section, you will explore the disparities in error for different \"groups\" of the dataset. The error disparity between two test sets with errors $\\epsilon_1$ and $\\epsilon_2$ is $|\\epsilon_1 - \\epsilon_2|$. \n",
    "\n"
   ]
  },
  {
   "cell_type": "markdown",
   "metadata": {},
   "source": [
    "### 5.1: Splitting by Feature Values (10 points)\n",
    "\n",
    "Write a function which takes in X and y arrays, a column number, and a threshold. The function should return arrays X0 and y0 containing all rows where the value in the specified column falls strictly below the threshold, as well as arrays X1 and y1 containing all rows where the the value in the specified column is above or equal to the threshold. \n",
    "\n",
    "\n",
    "Numpy supports indexing via an array of values, which allows you to extract a non-contiguous subset of rows from an array. You might find this helpful. More information is available here: https://docs.scipy.org/doc/numpy-1.10.0/user/basics.indexing.html"
   ]
  },
  {
   "cell_type": "code",
   "execution_count": 37,
   "metadata": {},
   "outputs": [],
   "source": [
    "import numpy as np\n",
    "import pdb\n",
    "\n",
    "def split_on_feature(X_test, y_test, column, thresh):\n",
    "    (w, d) = X_test.shape \n",
    "    X0_test = []\n",
    "    y0_test = []\n",
    "    X1_test = []\n",
    "    y1_test = []\n",
    "    \n",
    "    # for each row, check each column for threshold\n",
    "    for i in range(0, w, 1):\n",
    "        if(X_test[i][column] < thresh):\n",
    "            y0_test.append(y_test[i]) \n",
    "            X0_test.append(X_test[i])\n",
    "        else:\n",
    "            y1_test.append(y_test[i])\n",
    "            X1_test.append(X_test[i])\n",
    "                \n",
    "    X0_test = np.array(X0_test)\n",
    "    X1_test = np.array(X1_test)\n",
    "    y0_test = np.array(y0_test)\n",
    "    y1_test = np.array(y1_test)\n",
    "    return (X0_test, X1_test, y0_test, y1_test)"
   ]
  },
  {
   "cell_type": "markdown",
   "metadata": {},
   "source": [
    "### 5.2: Calculating All Discrepancies (10 points)\n",
    "\n",
    "Now, let's evaluate the error disparities for the model you previously trained in Section 2.1. If you used the same naming conventions for sections 3 and 4, the models may have been overwritten. If that's the case, make sure to rerun the code in Section 2.1. \n",
    "\n",
    "For each feature in the dataset, use the function from 5.1 to split on that column when the threshold is set to 0.5. Then compute the error disparity for the feature by calculating the error of predictions made on both X0 and X1. \n",
    "\n",
    "This cell should print out the columns _by name_ (using the list of names in the Pandas dataframe) along with their corresponding error discrepancies, and should print in descending order of error discrepancy. You should omit columns where either of the splits have fewer than 100 rows.\n",
    "\n",
    "__Before running any code__, look through the available features on the dataset, available at http://archive.ics.uci.edu/ml/datasets/communities+and+crime, and write down two attributes that you would expect to have __high__ error disparity, and two attributes you would expect to have __low__ error disparity."
   ]
  },
  {
   "cell_type": "markdown",
   "metadata": {},
   "source": [
    "Two attributes I expect to have high error disparity:\n",
    "    1. medIncome\n",
    "    2. PctUnemployed\n",
    "    \n",
    "Two attributes I expect to have low error disparity:\n",
    "    1. LandArea\n",
    "    2. pctWRetire"
   ]
  },
  {
   "cell_type": "code",
   "execution_count": 38,
   "metadata": {},
   "outputs": [
    {
     "name": "stdout",
     "output_type": "stream",
     "text": [
      "PctHousNoPhone : 0.17142857142857143\n",
      "pctWInvInc : 0.17085142227693906\n",
      "TotalPctDiv : 0.1546858791493776\n",
      "FemalePctDiv : 0.14595161963583014\n",
      "medIncome : 0.14362085027100271\n",
      "medFamInc : 0.1386707423486117\n",
      "MalePctDivorce : 0.13832340284673952\n",
      "PctHousLess3BR : 0.12922458766728234\n",
      "blackPerCap : 0.12758227947529652\n",
      "PctLess9thGrade : 0.1230911816029368\n",
      "HispPerCap : 0.1208748156342183\n",
      "PctNotHSGrad : 0.11865372452473169\n",
      "PctUnemployed : 0.11725469545374761\n",
      "OtherPerCap : 0.11722402013664149\n",
      "PctEmploy : 0.11642139186410225\n",
      "PctHousOccup : 0.1117025518341308\n",
      "PctPopUnderPov : 0.11121313744277653\n",
      "MedNumBR : 0.10755058039506066\n",
      "pctWWage : 0.10671728356005483\n",
      "PctOccupMgmtProf : 0.10623433367827988\n",
      "PctPersOwnOccup : 0.1041754943502825\n",
      "perCapInc : 0.1018821603927987\n",
      "PctTeen2Par : 0.09447903694479037\n",
      "whitePerCap : 0.08968261790941796\n",
      "PersPerOwnOccHous : 0.08676060454750278\n",
      "agePct12t29 : 0.08662301294170183\n",
      "PctOccupManu : 0.08642869497535244\n",
      "RentHighQ : 0.0845178540624461\n",
      "PersPerRentOccHous : 0.0807049548468313\n",
      "MedRent : 0.07868039664378339\n",
      "PctKids2Par : 0.07790297764503573\n",
      "pctUrban : 0.07749146541914276\n",
      "PctImmigRec5 : 0.07629870129870131\n",
      "PctImmigRec10 : 0.07517346360804306\n",
      "pctWFarmSelf : 0.07483697252724136\n",
      "PctHousOwnOcc : 0.07191713381733206\n",
      "RentMedian : 0.07182530099699866\n",
      "agePct65up : 0.07105968090465273\n",
      "PctForeignBorn : 0.06950315164998144\n",
      "PctSameHouse85 : 0.06818409957839791\n",
      "PctFam2Par : 0.06642922038470755\n",
      "PctBSorMore : 0.06540890811494267\n",
      "AsianPerCap : 0.06532634742699321\n",
      "OwnOccHiQuart : 0.0611813106082868\n",
      "PctSpeakEnglOnly : 0.05974842767295599\n",
      "LemasPctPolicOnPatr : 0.05830136372546274\n",
      "pctWPubAsst : 0.056437588447755094\n",
      "MedRentPctHousInc : 0.055416395575797\n",
      "RentLowQ : 0.05417936991869918\n",
      "MedOwnCostPctIncNoMtg : 0.0517088089903624\n",
      "RacialMatchCommPol : 0.05151668584579977\n",
      "agePct12t21 : 0.051155684786358485\n",
      "PersPerOccupHous : 0.05051800857773092\n",
      "PctSameCity85 : 0.049789573717078484\n",
      "OwnOccLowQuart : 0.04876285165518021\n",
      "PctEmplManu : 0.048130754331502545\n",
      "PctImmigRec8 : 0.04745212038303692\n",
      "PctRecImmig10 : 0.04697130935949173\n",
      "OwnOccMedVal : 0.04676145339652449\n",
      "LemasSwFTFieldOps : 0.04676145339652449\n",
      "PctWorkMom : 0.04669042054582839\n",
      "PctYoungKids2Par : 0.04374480465502911\n",
      "PctIlleg : 0.037204099307159344\n",
      "PctRecentImmig : 0.036498119251072075\n",
      "pctWSocSec : 0.03065853406388916\n",
      "PctRecImmig8 : 0.030316742081447967\n",
      "MedYrHousBuilt : 0.03030453492221119\n",
      "PctPolicWhite : 0.029591791011336632\n",
      "PersPerFam : 0.028970311416399747\n",
      "PctSameState85 : 0.02613977613977614\n",
      "householdsize : 0.024499930545909154\n",
      "PctBornSameState : 0.022986216804403797\n",
      "racePctWhite : 0.02242071441477536\n",
      "racepctblack : 0.01638504864311316\n",
      "PctLargHouseFam : 0.014749846126791533\n",
      "PctImmigRecent : 0.013176338659938308\n",
      "MedOwnCostPctInc : 0.010115417404419985\n",
      "PctVacMore6Mos : 0.008959628965953426\n",
      "PctRecImmig5 : 0.008848893888263959\n",
      "PctEmplProfServ : 0.005535817949611055\n",
      "MalePctNevMarr : 0.005260951582477469\n",
      "PctWorkMomYoungKids : 0.0031174581727462514\n"
     ]
    }
   ],
   "source": [
    "(w, d) = X_test.shape\n",
    "error_disparity = []\n",
    "labels = []\n",
    "\n",
    "# split into 2 buckets\n",
    "for i in range(0, d, 1):\n",
    "    (X_below, X_above, y_below, y_above) = split_on_feature(X_test, y_test, i, 0.5)\n",
    "\n",
    "    # find the predictions for each bucket if >= 100 for each column\n",
    "    if(len(X_below) >= 100 and len(X_above) >= 100):\n",
    "        y_hat_above = dt_trained.predict(X_above, check_input=True)\n",
    "        y_hat_below = dt_trained.predict(X_below, check_input=True)\n",
    "    \n",
    "        error_above = error(y_above, y_hat_above)\n",
    "        error_below = error(y_below, y_hat_below)\n",
    "    \n",
    "        disparity = abs(error_above - error_below)\n",
    "        error_disparity.append(disparity)\n",
    "        labels.append(dataframe.columns[i])\n",
    "\n",
    "# output\n",
    "error_disparity,labels = zip(*sorted(zip(error_disparity,labels)))\n",
    "for j in range((len(labels) - 1), 0, -1):\n",
    "    print(labels[j], \":\", error_disparity[j])"
   ]
  },
  {
   "cell_type": "markdown",
   "metadata": {},
   "source": [
    "### 5.3: Other Types of Discrepancies (10 points)\n",
    "\n",
    "Instead of error disparities, let's compute two other types of errors that are of interest to us: False Negative Disparity and False Positive Disparity. \n",
    "\n",
    "For the feature racePctblack (percentage of population that is African-American), which is in column 2, compute the False Positive rate and False Negative rate using the provided functions. You should threshold the feature at 0.5 as earlier to create the two sets of samples."
   ]
  },
  {
   "cell_type": "code",
   "execution_count": 39,
   "metadata": {},
   "outputs": [],
   "source": [
    "## INPUTS:\n",
    "# y - true labels\n",
    "# y_hat - predicted labels\n",
    "def fp_error(y, y_hat):\n",
    "    fp_errors = [np.maximum(y_hat[i] - y[i], 0) for i in range(len(y))]\n",
    "    return np.mean(fp_errors)\n",
    "\n",
    "## INPUTS:\n",
    "# y - true labels\n",
    "# y_hat - predicted labels\n",
    "def fn_error(y, y_hat):\n",
    "    fn_errors = [np.maximum(y[i] - y_hat[i], 0) for i in range(len(y))]\n",
    "    return np.mean(fn_errors)"
   ]
  },
  {
   "cell_type": "code",
   "execution_count": 40,
   "metadata": {
    "scrolled": true
   },
   "outputs": [
    {
     "name": "stdout",
     "output_type": "stream",
     "text": [
      "False Positive Error Rate of Communities with Above Median Black Population:  0.09523809523809523\n",
      "False Positive Error Rate of Communities with Below Median Black Population:  0.05069124423963134\n",
      "False Negative Error Rate of Communities with Above Median Black Population:  0.06349206349206349\n",
      "False Negative Error Rate of Communities with Below Median Black Population:  0.12442396313364056\n"
     ]
    }
   ],
   "source": [
    "(X_below, X_above, y_below, y_above) = split_on_feature(X_test, y_test, 2, 0.5)\n",
    "y_hat_above = dt_trained.predict(X_above, check_input=True)\n",
    "y_hat_below = dt_trained.predict(X_below, check_input=True)\n",
    "\n",
    "y1_fperr = fp_error(y_above, y_hat_above)\n",
    "y0_fperr = fp_error(y_below, y_hat_below)\n",
    "y1_fnerr = fn_error(y_above, y_hat_above)\n",
    "y0_fnerr = fn_error(y_below, y_hat_below)\n",
    "\n",
    "print('False Positive Error Rate of Communities with Above Median Black Population: ', y1_fperr)\n",
    "print('False Positive Error Rate of Communities with Below Median Black Population: ', y0_fperr)\n",
    "\n",
    "print('False Negative Error Rate of Communities with Above Median Black Population: ', y1_fnerr)\n",
    "print('False Negative Error Rate of Communities with Below Median Black Population: ', y0_fnerr)"
   ]
  },
  {
   "cell_type": "markdown",
   "metadata": {},
   "source": [
    "## Part 6: Short Response Questions (25 pts)"
   ]
  },
  {
   "cell_type": "markdown",
   "metadata": {},
   "source": [
    "#### Q1: When training a machine learning model with some dataset, what are some assumptions we are making about the data? What are some things that it is important for us not to assume? Please give a few examples for each."
   ]
  },
  {
   "cell_type": "markdown",
   "metadata": {},
   "source": [
    "Three assumptions are made about the data:\n",
    "    1. Examples are drawn i.i.d (independently and identically) at random from the distribution.\n",
    "            a. Examples in which this is violated: Drawing examples from the same dating site (as in the Gaydar study), or asking only your friends participate in some study. \n",
    "    2. The distribution is stationary.\n",
    "            a. Examples in which this is violated: A data set that tracks retail sales throughout the year (since the data changes seasonally), or a data set which tracks social media trends.\n",
    "    3. Examples from test and training sets are drawn from partitions from the same distribution.\n",
    "            a. Examples in which this is violated: The training set is drawn from participants of dating site A, and the test set is drawn from participants of dating site B. Or, the training set is drawn from retail sales in Winter, and the test set is drawn from retail sales in the Fall.\n",
    "            \n",
    "It is important for us not to assume that 1, 2, and 3 are met by the data. Assuming the data does follow 1, 2, and 3 when in reality it does not, and we do not account for this in the training of our model, hinders the model's ability to generalize to new data."
   ]
  },
  {
   "cell_type": "markdown",
   "metadata": {},
   "source": [
    "#### Q2: Why is it important to evaluate our model on data which was not used in training? What is the error rate on \"test\" or \"holdout\" data supposed to be a proxy for?"
   ]
  },
  {
   "cell_type": "markdown",
   "metadata": {},
   "source": [
    "It is important to evaluate our model on data which was not used in training so that we can measure how well our model generalizes to new data. Evaluating on never-before-seen data is also an indicator of if the model overfit the training set. If we train on test data, we cannot approximate the true performance of the model in the theoretical \"real world\".\n",
    "\n",
    "The error rate on the \"test\" or \"holdout\" data is a proxy for how well the model generalizes to new data, i.e., \"real world\" performance."
   ]
  },
  {
   "cell_type": "markdown",
   "metadata": {},
   "source": [
    "#### Q3: In your own words, explain the results of your plot from 4.1. Why does it make sense that these results occur?"
   ]
  },
  {
   "cell_type": "markdown",
   "metadata": {},
   "source": [
    "Plot 4.1 shows that for both decision tree and logistic regression models, performance on test data improves when the size of the training set increases. A larger sample size reduces test error. It makes sence that these results occur because the larger the training set, the more closely the training set represents the \"real world\". More formally (if our model class if finite), \n",
    "\n",
    "        | training error - true error | = sqrt(log(|model class|)/sample size)\n",
    "        \n",
    "From the above, our model is best able to approximate to the real world (or in this case, the test set) the larger its sample size in relation to model complexity."
   ]
  },
  {
   "cell_type": "markdown",
   "metadata": {},
   "source": [
    "#### Q4: In your own words, explain the results of your plot from 4.2. Why does it make sense that these results occur?"
   ]
  },
  {
   "cell_type": "markdown",
   "metadata": {},
   "source": [
    "Plot 4.2 shows overfitting of the decision tree model to the training data. It makes sense that these results occur because while the depth of the decision tree increases as the size of the training set stays the same, the decision tree becomes too complex and more closely fits the peculiarities of the training data. As in Q3, \n",
    "\n",
    "        | training error - true error | = sqrt(log(|model class|)/sample size)\n",
    "        \n",
    "In Plot 4.2, the cardinality of the model class increases as the sample size stays the same. This means the training error and true error (in this case, error on the test set) will become increasingly dissimilar as the model complexity increases in relation to the sample size."
   ]
  },
  {
   "cell_type": "markdown",
   "metadata": {},
   "source": [
    "#### Q5: In your own words, explain the results of section 5.3. What are some possible implications of this model in terms of unfairness?"
   ]
  },
  {
   "cell_type": "markdown",
   "metadata": {},
   "source": [
    "The model more frequently considers majority black populations violent than minority black populations. More specifically, the model more frequently considers majority black populations violent when they are actually nonviolent (false positive error rate) and more frequently considers minority black populations nonviolent when they are actually violent (false negative error rate). The model is more likely to give minority black populations the benefit of the doubt.\n",
    "\n",
    "This means that either the data set or the trained model (or both) is unfair in terms of equality of error between majority and minority black populations. Some implications of this model in terms of unfairness arise when the model may exacerbate pre-existing bias, since the model does not apply fairness restrictions when making decisions. This is especially agregious when there is the potential of feedback loops. As discussed in \"The Frontiers of Fairness in Machine Learning\", marking a nonviolent community as violent may make that community appear even more violent if the model's predictions are used to increase policing in that community."
   ]
  },
  {
   "cell_type": "markdown",
   "metadata": {},
   "source": [
    "## Part 7: Extra Credit (5-10 points)\n",
    "\n",
    "Play around with the data and generate some kind of plot (via matplotlib) that you find interesting. Write a few sentences about your process, what you found, and what you think it suggests about the data. This could be an evaluation of multiple model classes, a statistical analysis of different features, unsupervised analysis, extending the investigation into error discrepancies, or anything else you can think of. \n",
    "\n",
    "Any well-justified solution will earn up to 5 points of extra credit. The 3 submissions we deem most interesting will earn up to 10 points of extra credit. "
   ]
  },
  {
   "cell_type": "code",
   "execution_count": 34,
   "metadata": {},
   "outputs": [
    {
     "name": "stdout",
     "output_type": "stream",
     "text": [
      "OwnOccHiQuart : 0.006681658885299701\n",
      "PctOccupManu : 0.006702719649393237\n",
      "PctNotHSGrad : 0.008686156550889614\n",
      "PctTeen2Par : 0.011030040064621733\n",
      "MalePctDivorce : 0.01130272684306198\n",
      "PctEmplManu : 0.01244110964320127\n",
      "PctSpeakEnglOnly : 0.012972540021794708\n",
      "PctSameCity85 : 0.013873722268782022\n",
      "HousVacant : 0.015685191382217464\n",
      "PctHousLess3BR : 0.01667321360729879\n",
      "PopDens : 0.0180678308103075\n",
      "racePctWhite : 0.018794556764484768\n",
      "pctWInvInc : 0.01970307378097533\n",
      "PctVacMore6Mos : 0.020268623957674065\n",
      "RentMedian : 0.02412821264136004\n",
      "FemalePctDiv : 0.03082153307235511\n",
      "NumImmig : 0.0405954113464241\n",
      "PctPopUnderPov : 0.05060047516206403\n",
      "PctIlleg : 0.6609712035477944\n"
     ]
    }
   ],
   "source": [
    "# make new dataset with only features whose importance is > 0\n",
    "unimportant_labels = []\n",
    "# rank the importace of features\n",
    "feature_importance,labels = zip(*sorted(zip(dt_trained.feature_importances_, dataframe.columns.values)))\n",
    "for j in range(0, len(labels)):\n",
    "    if(feature_importance[j] != 0.):\n",
    "        print(labels[j], \":\", feature_importance[j])\n",
    "    else:\n",
    "        unimportant_labels.append(labels[j])"
   ]
  },
  {
   "cell_type": "code",
   "execution_count": 35,
   "metadata": {},
   "outputs": [],
   "source": [
    "modified_dataframe = dataframe.drop(unimportant_labels, axis = 1)"
   ]
  },
  {
   "cell_type": "code",
   "execution_count": 36,
   "metadata": {},
   "outputs": [
    {
     "data": {
      "text/html": [
       "<div>\n",
       "<style scoped>\n",
       "    .dataframe tbody tr th:only-of-type {\n",
       "        vertical-align: middle;\n",
       "    }\n",
       "\n",
       "    .dataframe tbody tr th {\n",
       "        vertical-align: top;\n",
       "    }\n",
       "\n",
       "    .dataframe thead th {\n",
       "        text-align: right;\n",
       "    }\n",
       "</style>\n",
       "<table border=\"1\" class=\"dataframe\">\n",
       "  <thead>\n",
       "    <tr style=\"text-align: right;\">\n",
       "      <th></th>\n",
       "      <th>racePctWhite</th>\n",
       "      <th>pctWInvInc</th>\n",
       "      <th>PctPopUnderPov</th>\n",
       "      <th>PctNotHSGrad</th>\n",
       "      <th>PctEmplManu</th>\n",
       "      <th>PctOccupManu</th>\n",
       "      <th>MalePctDivorce</th>\n",
       "      <th>FemalePctDiv</th>\n",
       "      <th>PctTeen2Par</th>\n",
       "      <th>PctIlleg</th>\n",
       "      <th>NumImmig</th>\n",
       "      <th>PctSpeakEnglOnly</th>\n",
       "      <th>PctHousLess3BR</th>\n",
       "      <th>HousVacant</th>\n",
       "      <th>PctVacMore6Mos</th>\n",
       "      <th>OwnOccHiQuart</th>\n",
       "      <th>RentMedian</th>\n",
       "      <th>PctSameCity85</th>\n",
       "      <th>PopDens</th>\n",
       "      <th>ViolentCrimesPerPop</th>\n",
       "    </tr>\n",
       "  </thead>\n",
       "  <tbody>\n",
       "    <tr>\n",
       "      <th>0</th>\n",
       "      <td>0.90</td>\n",
       "      <td>0.60</td>\n",
       "      <td>0.19</td>\n",
       "      <td>0.18</td>\n",
       "      <td>0.23</td>\n",
       "      <td>0.25</td>\n",
       "      <td>0.68</td>\n",
       "      <td>0.75</td>\n",
       "      <td>0.56</td>\n",
       "      <td>0.14</td>\n",
       "      <td>0.03</td>\n",
       "      <td>0.89</td>\n",
       "      <td>0.51</td>\n",
       "      <td>0.21</td>\n",
       "      <td>0.26</td>\n",
       "      <td>0.18</td>\n",
       "      <td>0.35</td>\n",
       "      <td>0.51</td>\n",
       "      <td>0.26</td>\n",
       "      <td>0.0</td>\n",
       "    </tr>\n",
       "    <tr>\n",
       "      <th>1</th>\n",
       "      <td>0.74</td>\n",
       "      <td>0.45</td>\n",
       "      <td>0.24</td>\n",
       "      <td>0.24</td>\n",
       "      <td>0.57</td>\n",
       "      <td>0.42</td>\n",
       "      <td>1.00</td>\n",
       "      <td>0.91</td>\n",
       "      <td>0.39</td>\n",
       "      <td>0.24</td>\n",
       "      <td>0.01</td>\n",
       "      <td>0.84</td>\n",
       "      <td>0.82</td>\n",
       "      <td>0.02</td>\n",
       "      <td>0.25</td>\n",
       "      <td>0.21</td>\n",
       "      <td>0.38</td>\n",
       "      <td>0.60</td>\n",
       "      <td>0.12</td>\n",
       "      <td>1.0</td>\n",
       "    </tr>\n",
       "    <tr>\n",
       "      <th>2</th>\n",
       "      <td>0.56</td>\n",
       "      <td>0.39</td>\n",
       "      <td>0.27</td>\n",
       "      <td>0.43</td>\n",
       "      <td>0.32</td>\n",
       "      <td>0.49</td>\n",
       "      <td>0.63</td>\n",
       "      <td>0.71</td>\n",
       "      <td>0.43</td>\n",
       "      <td>0.46</td>\n",
       "      <td>0.00</td>\n",
       "      <td>0.88</td>\n",
       "      <td>0.51</td>\n",
       "      <td>0.01</td>\n",
       "      <td>0.30</td>\n",
       "      <td>0.16</td>\n",
       "      <td>0.29</td>\n",
       "      <td>0.67</td>\n",
       "      <td>0.21</td>\n",
       "      <td>1.0</td>\n",
       "    </tr>\n",
       "    <tr>\n",
       "      <th>3</th>\n",
       "      <td>0.08</td>\n",
       "      <td>0.43</td>\n",
       "      <td>0.10</td>\n",
       "      <td>0.25</td>\n",
       "      <td>0.36</td>\n",
       "      <td>0.37</td>\n",
       "      <td>0.34</td>\n",
       "      <td>0.49</td>\n",
       "      <td>0.65</td>\n",
       "      <td>0.33</td>\n",
       "      <td>0.02</td>\n",
       "      <td>0.81</td>\n",
       "      <td>0.01</td>\n",
       "      <td>0.01</td>\n",
       "      <td>0.47</td>\n",
       "      <td>0.19</td>\n",
       "      <td>0.70</td>\n",
       "      <td>0.64</td>\n",
       "      <td>0.39</td>\n",
       "      <td>0.0</td>\n",
       "    </tr>\n",
       "    <tr>\n",
       "      <th>4</th>\n",
       "      <td>0.95</td>\n",
       "      <td>0.68</td>\n",
       "      <td>0.06</td>\n",
       "      <td>0.30</td>\n",
       "      <td>0.67</td>\n",
       "      <td>0.42</td>\n",
       "      <td>0.22</td>\n",
       "      <td>0.20</td>\n",
       "      <td>0.85</td>\n",
       "      <td>0.06</td>\n",
       "      <td>0.00</td>\n",
       "      <td>0.88</td>\n",
       "      <td>0.19</td>\n",
       "      <td>0.01</td>\n",
       "      <td>0.55</td>\n",
       "      <td>0.30</td>\n",
       "      <td>0.36</td>\n",
       "      <td>0.61</td>\n",
       "      <td>0.09</td>\n",
       "      <td>0.0</td>\n",
       "    </tr>\n",
       "  </tbody>\n",
       "</table>\n",
       "</div>"
      ],
      "text/plain": [
       "   racePctWhite  pctWInvInc  PctPopUnderPov  PctNotHSGrad  PctEmplManu  \\\n",
       "0          0.90        0.60            0.19          0.18         0.23   \n",
       "1          0.74        0.45            0.24          0.24         0.57   \n",
       "2          0.56        0.39            0.27          0.43         0.32   \n",
       "3          0.08        0.43            0.10          0.25         0.36   \n",
       "4          0.95        0.68            0.06          0.30         0.67   \n",
       "\n",
       "   PctOccupManu  MalePctDivorce  FemalePctDiv  PctTeen2Par  PctIlleg  \\\n",
       "0          0.25            0.68          0.75         0.56      0.14   \n",
       "1          0.42            1.00          0.91         0.39      0.24   \n",
       "2          0.49            0.63          0.71         0.43      0.46   \n",
       "3          0.37            0.34          0.49         0.65      0.33   \n",
       "4          0.42            0.22          0.20         0.85      0.06   \n",
       "\n",
       "   NumImmig  PctSpeakEnglOnly  PctHousLess3BR  HousVacant  PctVacMore6Mos  \\\n",
       "0      0.03              0.89            0.51        0.21            0.26   \n",
       "1      0.01              0.84            0.82        0.02            0.25   \n",
       "2      0.00              0.88            0.51        0.01            0.30   \n",
       "3      0.02              0.81            0.01        0.01            0.47   \n",
       "4      0.00              0.88            0.19        0.01            0.55   \n",
       "\n",
       "   OwnOccHiQuart  RentMedian  PctSameCity85  PopDens  ViolentCrimesPerPop  \n",
       "0           0.18        0.35           0.51     0.26                  0.0  \n",
       "1           0.21        0.38           0.60     0.12                  1.0  \n",
       "2           0.16        0.29           0.67     0.21                  1.0  \n",
       "3           0.19        0.70           0.64     0.39                  0.0  \n",
       "4           0.30        0.36           0.61     0.09                  0.0  "
      ]
     },
     "execution_count": 36,
     "metadata": {},
     "output_type": "execute_result"
    }
   ],
   "source": [
    "modified_dataframe.head(5)"
   ]
  },
  {
   "cell_type": "code",
   "execution_count": 37,
   "metadata": {},
   "outputs": [],
   "source": [
    "# convert to numpy array\n",
    "modified_data = modified_dataframe.values[:, :]"
   ]
  },
  {
   "cell_type": "code",
   "execution_count": 38,
   "metadata": {},
   "outputs": [],
   "source": [
    "# separate the features and labels\n",
    "modified_X = modified_dataframe.values[:, :-1]"
   ]
  },
  {
   "cell_type": "code",
   "execution_count": 39,
   "metadata": {},
   "outputs": [],
   "source": [
    "# create training and test sets\n",
    "modified_X_train = modified_X[0:1000, :]\n",
    "modified_X_test = modified_X[1000:, :]"
   ]
  },
  {
   "cell_type": "code",
   "execution_count": 91,
   "metadata": {
    "scrolled": true
   },
   "outputs": [
    {
     "data": {
      "image/png": "[encoded data removed]",
      "text/plain": [
       "<Figure size 432x288 with 1 Axes>"
      ]
     },
     "metadata": {
      "needs_background": "light"
     },
     "output_type": "display_data"
    }
   ],
   "source": [
    "## Generate plot\n",
    "\n",
    "%matplotlib inline\n",
    "\n",
    "import matplotlib.pyplot as plt\n",
    "\n",
    "# Create array with sample sizes\n",
    "sampleSizes = [i for i in range(10, 1010, 10)]\n",
    "\n",
    "# Create arrays with indices\n",
    "decisionTree = [DT_testErrorWithN(a, X_train, X_test) for a in sampleSizes]\n",
    "decisionTree_error = sum(decisionTree)/len(sampleSizes)\n",
    "restricted_decisionTree = [DT_testErrorWithN(a, modified_X_train, modified_X_test) for a in sampleSizes]\n",
    "restricted_decisionTree_error = sum(restricted_decisionTree)/len(sampleSizes)\n",
    "\n",
    "# Create a plot with a caption, X and Y legends, etc\n",
    "x_label = 'Sample Size'\n",
    "y_label = 'Test Error'\n",
    "plt.title('Test Error vs. Sample Size')\n",
    "plt.xlabel(x_label)\n",
    "plt.ylabel(y_label)\n",
    "\n",
    "plt.plot(sampleSizes, decisionTree, color='blue', label='All features (122)') \n",
    "plt.plot(sampleSizes, restricted_decisionTree, color='green', label='Reduced features (17)')\n",
    "plt.legend()\n",
    "\n",
    "plt.show()"
   ]
  },
  {
   "cell_type": "code",
   "execution_count": 92,
   "metadata": {},
   "outputs": [
    {
     "data": {
      "text/plain": [
       "0.18931589537223348"
      ]
     },
     "execution_count": 92,
     "metadata": {},
     "output_type": "execute_result"
    }
   ],
   "source": [
    "decisionTree_error"
   ]
  },
  {
   "cell_type": "code",
   "execution_count": 93,
   "metadata": {},
   "outputs": [
    {
     "data": {
      "text/plain": [
       "0.18138832997987925"
      ]
     },
     "execution_count": 93,
     "metadata": {},
     "output_type": "execute_result"
    }
   ],
   "source": [
    "restricted_decisionTree_error"
   ]
  },
  {
   "cell_type": "markdown",
   "metadata": {},
   "source": [
    "### Write a few sentences about your process, what you found, and what you think it suggests about the data.\n",
    "\n",
    "1. My process: I found the 17 most important features in the dataset. I first used the feature_importances_ attribute on a decision tree trained with all 122 features to find the importance of each feature. This resulted in 17 features with nonzero importance scores. I created a new dataset by removing all features whose importance scores were equal to 0. I then set up the data for training and testing as in Part 1 (noting that y values need not be changed, since only columns of features were removed from the original dataset). Then I trained and tested a new decision tree as in Part 2 with the modified datasets. I then created the plot above, similar to plot 4.1.\n",
    "\n",
    "\n",
    "\n",
    "2. What I found: A decision tree trained and tested on the 17 most relevant features outperforms a decision tree trained and tested on all 122 features across n sample sizes (p = .014613).\n",
    "\n",
    "\n",
    "\n",
    "3. What I think it suggests about the data: The vast majority of the features do not improve the model's performance on the test data. In fact, this vast majority hinders performance by causing the model to overfit on the training set. The feature set can be reduced to improve the model's ability to generalize."
   ]
  }
 ],
 "metadata": {
  "kernelspec": {
   "display_name": "Python 3",
   "language": "python",
   "name": "python3"
  },
  "language_info": {
   "codemirror_mode": {
    "name": "ipython",
    "version": 3
   },
   "file_extension": ".py",
   "mimetype": "text/x-python",
   "name": "python",
   "nbconvert_exporter": "python",
   "pygments_lexer": "ipython3",
   "version": "3.6.8"
  }
 },
 "nbformat": 4,
 "nbformat_minor": 2
}
